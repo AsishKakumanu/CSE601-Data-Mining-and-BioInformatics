{
 "cells": [
  {
   "cell_type": "code",
   "execution_count": 277,
   "metadata": {
    "ExecuteTime": {
     "end_time": "2019-12-03T08:09:15.156699Z",
     "start_time": "2019-12-03T08:09:15.150635Z"
    },
    "scrolled": true
   },
   "outputs": [],
   "source": [
    "import numpy as np\n",
    "import pandas as pd\n",
    "import os\n",
    "\n",
    "# Function to read the Dataset file \n",
    "def folder(pathname):\n",
    "    if pathname.endswith('features.csv'):\n",
    "        path = os.getcwd()\n",
    "        file = path + pathname\n",
    "        df = pd.read_csv(file, delimiter=\",\",header=None,index_col=False)\n",
    "        return df\n",
    "    else:\n",
    "        path = os.getcwd()\n",
    "        file = path + pathname\n",
    "        df = pd.read_csv(file, delimiter=\",\",header=None,index_col=False)\n",
    "        return df"
   ]
  },
  {
   "cell_type": "code",
   "execution_count": 278,
   "metadata": {
    "ExecuteTime": {
     "end_time": "2019-12-03T08:09:20.795705Z",
     "start_time": "2019-12-03T08:09:16.079812Z"
    },
    "scrolled": true
   },
   "outputs": [
    {
     "name": "stdout",
     "output_type": "stream",
     "text": [
      "Enter the File Name: train_features.csv\n"
     ]
    }
   ],
   "source": [
    "## Train Dataset\n",
    "file = input(\"Enter the File Name: \")\n",
    "df_train = folder(str('/'+ file))\n",
    "df_numpy_train = df_train.to_numpy()"
   ]
  },
  {
   "cell_type": "code",
   "execution_count": 279,
   "metadata": {
    "ExecuteTime": {
     "end_time": "2019-12-03T08:09:27.781982Z",
     "start_time": "2019-12-03T08:09:22.245509Z"
    },
    "scrolled": true
   },
   "outputs": [
    {
     "name": "stdout",
     "output_type": "stream",
     "text": [
      "Enter the File Name: train_label.csv\n"
     ]
    }
   ],
   "source": [
    "## Train Label\n",
    "file = input(\"Enter the File Name: \")\n",
    "df_trainLabel = folder(str('/'+ file))\n",
    "df_trainLabel = df_trainLabel.drop(0,axis=0)\n",
    "df_numpy_trainLabel = df_trainLabel.to_numpy()"
   ]
  },
  {
   "cell_type": "code",
   "execution_count": 280,
   "metadata": {
    "ExecuteTime": {
     "end_time": "2019-12-03T08:09:28.482654Z",
     "start_time": "2019-12-03T08:09:28.478494Z"
    },
    "scrolled": true
   },
   "outputs": [],
   "source": [
    "X = df_train.drop(0,axis=1)"
   ]
  },
  {
   "cell_type": "code",
   "execution_count": 281,
   "metadata": {
    "ExecuteTime": {
     "end_time": "2019-12-03T08:09:29.182417Z",
     "start_time": "2019-12-03T08:09:29.178761Z"
    },
    "scrolled": true
   },
   "outputs": [],
   "source": [
    "y = df_trainLabel.drop(0,axis=1)"
   ]
  },
  {
   "cell_type": "markdown",
   "metadata": {},
   "source": [
    "## KNN"
   ]
  },
  {
   "cell_type": "code",
   "execution_count": 707,
   "metadata": {
    "ExecuteTime": {
     "end_time": "2019-12-03T10:12:35.299664Z",
     "start_time": "2019-12-03T10:12:33.036904Z"
    },
    "scrolled": true
   },
   "outputs": [
    {
     "name": "stdout",
     "output_type": "stream",
     "text": [
      "{'n_neighbors': 24}\n"
     ]
    }
   ],
   "source": [
    "from sklearn.model_selection import GridSearchCV\n",
    "from sklearn.neighbors import KNeighborsClassifier\n",
    "import warnings\n",
    "from sklearn.exceptions import DataConversionWarning,ConvergenceWarning\n",
    "warnings.filterwarnings(action='ignore', category=DataConversionWarning)\n",
    "warnings.simplefilter(action='ignore', category=FutureWarning)\n",
    "warnings.filterwarnings(action='ignore',category=ConvergenceWarning)\n",
    "\n",
    "# KNN Model\n",
    "knn = KNeighborsClassifier()\n",
    "params_knn = {'n_neighbors':np.arange(1,50)}\n",
    "knn_gs = GridSearchCV(knn,params_knn,cv=10)\n",
    "knn_gs.fit(X,y)\n",
    "\n",
    "# Save Model\n",
    "knn_best = knn_gs.best_estimator_\n",
    "print(knn_gs.best_params_)"
   ]
  },
  {
   "cell_type": "markdown",
   "metadata": {},
   "source": [
    "## RF"
   ]
  },
  {
   "cell_type": "code",
   "execution_count": 688,
   "metadata": {
    "ExecuteTime": {
     "end_time": "2019-12-03T10:03:21.089314Z",
     "start_time": "2019-12-03T10:02:59.204019Z"
    },
    "scrolled": true
   },
   "outputs": [],
   "source": [
    "from sklearn.ensemble import RandomForestClassifier\n",
    "\n",
    "rf = RandomForestClassifier()\n",
    "\n",
    "params_rf = {'n_estimators':[50,100,200,300,400,500],'n_jobs':[10]}\n",
    "rf_gs = GridSearchCV(rf,params_rf,cv=10)\n",
    "rf_gs.fit(X,y)\n",
    "\n",
    "# Save Model\n",
    "rf_best = rf_gs.best_estimator_"
   ]
  },
  {
   "cell_type": "markdown",
   "metadata": {},
   "source": [
    "## LR"
   ]
  },
  {
   "cell_type": "code",
   "execution_count": 701,
   "metadata": {
    "ExecuteTime": {
     "end_time": "2019-12-03T10:08:18.392478Z",
     "start_time": "2019-12-03T10:08:02.080013Z"
    },
    "scrolled": true
   },
   "outputs": [
    {
     "name": "stderr",
     "output_type": "stream",
     "text": [
      "/usr/local/lib/python3.7/site-packages/sklearn/linear_model/logistic.py:432: FutureWarning: Default solver will be changed to 'lbfgs' in 0.22. Specify a solver to silence this warning.\n",
      "  FutureWarning)\n",
      "/usr/local/lib/python3.7/site-packages/sklearn/svm/base.py:929: ConvergenceWarning: Liblinear failed to converge, increase the number of iterations.\n",
      "  \"the number of iterations.\", ConvergenceWarning)\n",
      "/usr/local/lib/python3.7/site-packages/sklearn/linear_model/logistic.py:432: FutureWarning: Default solver will be changed to 'lbfgs' in 0.22. Specify a solver to silence this warning.\n",
      "  FutureWarning)\n",
      "/usr/local/lib/python3.7/site-packages/sklearn/svm/base.py:929: ConvergenceWarning: Liblinear failed to converge, increase the number of iterations.\n",
      "  \"the number of iterations.\", ConvergenceWarning)\n",
      "/usr/local/lib/python3.7/site-packages/sklearn/linear_model/logistic.py:432: FutureWarning: Default solver will be changed to 'lbfgs' in 0.22. Specify a solver to silence this warning.\n",
      "  FutureWarning)\n",
      "/usr/local/lib/python3.7/site-packages/sklearn/svm/base.py:929: ConvergenceWarning: Liblinear failed to converge, increase the number of iterations.\n",
      "  \"the number of iterations.\", ConvergenceWarning)\n",
      "/usr/local/lib/python3.7/site-packages/sklearn/linear_model/logistic.py:432: FutureWarning: Default solver will be changed to 'lbfgs' in 0.22. Specify a solver to silence this warning.\n",
      "  FutureWarning)\n",
      "/usr/local/lib/python3.7/site-packages/sklearn/svm/base.py:929: ConvergenceWarning: Liblinear failed to converge, increase the number of iterations.\n",
      "  \"the number of iterations.\", ConvergenceWarning)\n",
      "/usr/local/lib/python3.7/site-packages/sklearn/linear_model/logistic.py:432: FutureWarning: Default solver will be changed to 'lbfgs' in 0.22. Specify a solver to silence this warning.\n",
      "  FutureWarning)\n",
      "/usr/local/lib/python3.7/site-packages/sklearn/svm/base.py:929: ConvergenceWarning: Liblinear failed to converge, increase the number of iterations.\n",
      "  \"the number of iterations.\", ConvergenceWarning)\n",
      "/usr/local/lib/python3.7/site-packages/sklearn/linear_model/logistic.py:432: FutureWarning: Default solver will be changed to 'lbfgs' in 0.22. Specify a solver to silence this warning.\n",
      "  FutureWarning)\n",
      "/usr/local/lib/python3.7/site-packages/sklearn/linear_model/logistic.py:432: FutureWarning: Default solver will be changed to 'lbfgs' in 0.22. Specify a solver to silence this warning.\n",
      "  FutureWarning)\n",
      "/usr/local/lib/python3.7/site-packages/sklearn/linear_model/logistic.py:432: FutureWarning: Default solver will be changed to 'lbfgs' in 0.22. Specify a solver to silence this warning.\n",
      "  FutureWarning)\n",
      "/usr/local/lib/python3.7/site-packages/sklearn/linear_model/logistic.py:432: FutureWarning: Default solver will be changed to 'lbfgs' in 0.22. Specify a solver to silence this warning.\n",
      "  FutureWarning)\n",
      "/usr/local/lib/python3.7/site-packages/sklearn/linear_model/logistic.py:432: FutureWarning: Default solver will be changed to 'lbfgs' in 0.22. Specify a solver to silence this warning.\n",
      "  FutureWarning)\n",
      "/usr/local/lib/python3.7/site-packages/sklearn/linear_model/logistic.py:432: FutureWarning: Default solver will be changed to 'lbfgs' in 0.22. Specify a solver to silence this warning.\n",
      "  FutureWarning)\n",
      "/usr/local/lib/python3.7/site-packages/sklearn/svm/base.py:929: ConvergenceWarning: Liblinear failed to converge, increase the number of iterations.\n",
      "  \"the number of iterations.\", ConvergenceWarning)\n"
     ]
    },
    {
     "data": {
      "text/plain": [
       "LogisticRegression(C=1.0, class_weight=None, dual=False, fit_intercept=True,\n",
       "                   intercept_scaling=1, l1_ratio=None, max_iter=100,\n",
       "                   multi_class='warn', n_jobs=None, penalty='l1',\n",
       "                   random_state=None, solver='warn', tol=0.0001, verbose=0,\n",
       "                   warm_start=False)"
      ]
     },
     "execution_count": 701,
     "metadata": {},
     "output_type": "execute_result"
    }
   ],
   "source": [
    "from sklearn.linear_model import LogisticRegression\n",
    "import warnings\n",
    "from sklearn.exceptions import DataConversionWarning\n",
    "warnings.filterwarnings(action='ignore', category=DataConversionWarning)\n",
    "\n",
    "log_reg = LogisticRegression()\n",
    "params_log = {'penalty':['l1','l2']}\n",
    "log_gs = GridSearchCV(log_reg,params_log,cv=5)\n",
    "log_gs.fit(X,y)\n",
    "log_gs.best_estimator_"
   ]
  },
  {
   "cell_type": "markdown",
   "metadata": {},
   "source": [
    "## SVM"
   ]
  },
  {
   "cell_type": "code",
   "execution_count": 690,
   "metadata": {
    "ExecuteTime": {
     "end_time": "2019-12-03T10:03:29.019103Z",
     "start_time": "2019-12-03T10:03:25.638504Z"
    },
    "scrolled": true
   },
   "outputs": [],
   "source": [
    "from sklearn.svm import SVC\n",
    "svm = SVC()\n",
    "params_svm = {'C':[0.001,0.01,0.1,1,10],'gamma':[0.001,0.01,0.1,1,0.005],'kernel':['rbf']}\n",
    "svm_gs = GridSearchCV(svm,params_svm,cv=10)\n",
    "svm_gs.fit(X,y)\n",
    "svm_best = svm_gs.best_estimator_"
   ]
  },
  {
   "cell_type": "markdown",
   "metadata": {},
   "source": [
    "## Stochastic Gradient Boosting"
   ]
  },
  {
   "cell_type": "code",
   "execution_count": 691,
   "metadata": {
    "ExecuteTime": {
     "end_time": "2019-12-03T10:03:39.986731Z",
     "start_time": "2019-12-03T10:03:30.690661Z"
    },
    "scrolled": true
   },
   "outputs": [],
   "source": [
    "from sklearn.ensemble import GradientBoostingClassifier\n",
    "\n",
    "sgb = GradientBoostingClassifier()\n",
    "params_sgb = {'n_estimators':[10,100],'random_state':[5,6,7]}\n",
    "sgb_gs = GridSearchCV(sgb,params_sgb,cv=10)\n",
    "sgb_gs.fit(X,y)\n",
    "sgb_best = sgb_gs.best_estimator_"
   ]
  },
  {
   "cell_type": "markdown",
   "metadata": {},
   "source": [
    "## Adaboost"
   ]
  },
  {
   "cell_type": "code",
   "execution_count": 502,
   "metadata": {
    "ExecuteTime": {
     "end_time": "2019-12-03T09:13:54.594438Z",
     "start_time": "2019-12-03T09:13:49.100254Z"
    }
   },
   "outputs": [],
   "source": [
    "from sklearn.ensemble import AdaBoostClassifier\n",
    "ada = AdaBoostClassifier()\n",
    "params_ada = {'n_estimators':[10,100],'random_state':[5,6,7]}\n",
    "ada_gs = GridSearchCV(ada,params_ada,cv=10)\n",
    "ada_gs.fit(X,y)\n",
    "ada_best = ada_gs.best_estimator_"
   ]
  },
  {
   "cell_type": "markdown",
   "metadata": {},
   "source": [
    "## Bagging"
   ]
  },
  {
   "cell_type": "code",
   "execution_count": 692,
   "metadata": {
    "ExecuteTime": {
     "end_time": "2019-12-03T10:03:43.721466Z",
     "start_time": "2019-12-03T10:03:43.718301Z"
    }
   },
   "outputs": [],
   "source": [
    "from sklearn.ensemble import BaggingClassifier\n",
    "\n",
    "bagging_clf_svm = BaggingClassifier(svm_best)\n",
    "bagging_clf_rf = BaggingClassifier(rf_best)\n",
    "bagging_clf_log = BaggingClassifier(log_reg)\n",
    "bagging_clf_knn = BaggingClassifier(knn_best)"
   ]
  },
  {
   "cell_type": "markdown",
   "metadata": {},
   "source": [
    "## Prepare Train & Test Split for Accuracy"
   ]
  },
  {
   "cell_type": "code",
   "execution_count": 693,
   "metadata": {
    "ExecuteTime": {
     "end_time": "2019-12-03T10:03:45.618793Z",
     "start_time": "2019-12-03T10:03:45.614621Z"
    },
    "scrolled": true
   },
   "outputs": [],
   "source": [
    "from sklearn.model_selection import train_test_split\n",
    "X_train,X_test,y_train,y_test = train_test_split(X,y,test_size=0.33)"
   ]
  },
  {
   "cell_type": "markdown",
   "metadata": {
    "ExecuteTime": {
     "end_time": "2019-12-03T05:48:31.145942Z",
     "start_time": "2019-12-03T05:48:31.143508Z"
    }
   },
   "source": [
    "## Voting Classifier"
   ]
  },
  {
   "cell_type": "code",
   "execution_count": 750,
   "metadata": {
    "ExecuteTime": {
     "end_time": "2019-12-03T10:43:14.288608Z",
     "start_time": "2019-12-03T10:43:07.099128Z"
    }
   },
   "outputs": [
    {
     "data": {
      "text/plain": [
       "0.928"
      ]
     },
     "execution_count": 750,
     "metadata": {},
     "output_type": "execute_result"
    }
   ],
   "source": [
    "### from sklearn.ensemble import VotingClassifier\n",
    "\n",
    "estimators = [('svm',svm_best),('rf',rf_best),('log_reg',log_gs),('ada',ada_best)] \n",
    "\n",
    "# [('rf',rf_best),('log_reg',log_reg),('ada',ada_best),('sgb',sgb_best)] - kernel, gamma\n",
    "# ('rf',rf_best),('log_reg',log_reg),('ada',ada_best),('sgb',sgb_best)\n",
    "# ('knn',knn_best),('svm',svm_best),('rf',rf_best),('log_reg',log_reg),('sgb',sgb_best), ('ada',ada_best)\n",
    "ensemble = VotingClassifier(estimators, voting='hard')\n",
    "ensemble.fit(X_train,y_train)\n",
    "#y_pred = ensemble.predict(X_test)\n",
    "ensemble.score(X_test,y_test)\n"
   ]
  },
  {
   "cell_type": "markdown",
   "metadata": {
    "ExecuteTime": {
     "end_time": "2019-12-03T05:56:53.378319Z",
     "start_time": "2019-12-03T05:56:53.375846Z"
    }
   },
   "source": [
    "## Test"
   ]
  },
  {
   "cell_type": "code",
   "execution_count": 738,
   "metadata": {
    "ExecuteTime": {
     "end_time": "2019-12-03T10:25:07.553682Z",
     "start_time": "2019-12-03T10:25:03.009571Z"
    },
    "run_control": {
     "marked": false
    },
    "scrolled": true
   },
   "outputs": [
    {
     "name": "stdout",
     "output_type": "stream",
     "text": [
      "Enter the File Name: test_features.csv\n"
     ]
    }
   ],
   "source": [
    "## Train Dataset\n",
    "file = input(\"Enter the File Name: \")\n",
    "df_test = folder(str('/'+ file))\n"
   ]
  },
  {
   "cell_type": "code",
   "execution_count": 739,
   "metadata": {
    "ExecuteTime": {
     "end_time": "2019-12-03T10:25:09.334520Z",
     "start_time": "2019-12-03T10:25:09.330460Z"
    },
    "scrolled": true
   },
   "outputs": [],
   "source": [
    "X = df_test.iloc[:,1:]\n",
    "ids = df_test.iloc[:,0]\n",
    "ids = ids.rename(columns={0:'id'})"
   ]
  },
  {
   "cell_type": "code",
   "execution_count": 740,
   "metadata": {
    "ExecuteTime": {
     "end_time": "2019-12-03T10:25:09.867141Z",
     "start_time": "2019-12-03T10:25:09.728249Z"
    },
    "scrolled": true
   },
   "outputs": [],
   "source": [
    "y = ensemble.predict(X)"
   ]
  },
  {
   "cell_type": "code",
   "execution_count": 741,
   "metadata": {
    "ExecuteTime": {
     "end_time": "2019-12-03T10:25:10.096319Z",
     "start_time": "2019-12-03T10:25:10.092308Z"
    },
    "scrolled": true
   },
   "outputs": [],
   "source": [
    "y_df = pd.DataFrame(y)\n",
    "y_df = y_df.rename(columns={0:'label'})"
   ]
  },
  {
   "cell_type": "code",
   "execution_count": 742,
   "metadata": {
    "ExecuteTime": {
     "end_time": "2019-12-03T10:25:10.671595Z",
     "start_time": "2019-12-03T10:25:10.666207Z"
    },
    "scrolled": true
   },
   "outputs": [],
   "source": [
    "final_y = pd.concat([ids,y_df],axis=1)\n",
    "final_yl = final_y.rename(columns={0:'id'})"
   ]
  },
  {
   "cell_type": "code",
   "execution_count": 743,
   "metadata": {
    "ExecuteTime": {
     "end_time": "2019-12-03T10:25:15.167456Z",
     "start_time": "2019-12-03T10:25:15.161798Z"
    },
    "scrolled": true
   },
   "outputs": [],
   "source": [
    "final_yl.to_csv('submission8.csv',index=False)"
   ]
  },
  {
   "cell_type": "markdown",
   "metadata": {},
   "source": [
    "## Results"
   ]
  },
  {
   "cell_type": "markdown",
   "metadata": {},
   "source": [
    "Highest Accuracy using Training Dataset = Fluctuating between 0.91 - 0.93\n",
    "Classifiers used are SVM, Random Forest, Log_regression, Ada_Boost\n",
    "\n",
    "Best Parameters Observed: \n",
    "\n",
    "// 1. SVM\n",
    "C = 0.001\n",
    "Gamma = 0.001\n",
    "Kernel = rbf\n",
    "\n",
    "// 2. Random Forest\n",
    "n_estimators = 50\n",
    "n_jobs = 10\n",
    "\n",
    "// 3. Log Regression\n",
    "Cross Validation = 5\n",
    "penalty = l2\n",
    "\n",
    "// 4. AdaBoost\n",
    "n-estimators = 100\n",
    "random_state = 5"
   ]
  },
  {
   "cell_type": "code",
   "execution_count": 748,
   "metadata": {
    "ExecuteTime": {
     "end_time": "2019-12-03T10:33:23.517968Z",
     "start_time": "2019-12-03T10:33:23.511529Z"
    }
   },
   "outputs": [
    {
     "data": {
      "text/plain": [
       "{'svm': SVC(C=0.001, cache_size=200, class_weight=None, coef0=0.0,\n",
       "     decision_function_shape='ovr', degree=3, gamma=0.001, kernel='rbf',\n",
       "     max_iter=-1, probability=False, random_state=None, shrinking=True,\n",
       "     tol=0.001, verbose=False),\n",
       " 'rf': RandomForestClassifier(bootstrap=True, class_weight=None, criterion='gini',\n",
       "                        max_depth=None, max_features='auto', max_leaf_nodes=None,\n",
       "                        min_impurity_decrease=0.0, min_impurity_split=None,\n",
       "                        min_samples_leaf=1, min_samples_split=2,\n",
       "                        min_weight_fraction_leaf=0.0, n_estimators=50, n_jobs=10,\n",
       "                        oob_score=False, random_state=None, verbose=0,\n",
       "                        warm_start=False),\n",
       " 'log_reg': GridSearchCV(cv=5, error_score='raise-deprecating',\n",
       "              estimator=LogisticRegression(C=1.0, class_weight=None, dual=False,\n",
       "                                           fit_intercept=True,\n",
       "                                           intercept_scaling=1, l1_ratio=None,\n",
       "                                           max_iter=100, multi_class='warn',\n",
       "                                           n_jobs=None, penalty='l2',\n",
       "                                           random_state=None, solver='warn',\n",
       "                                           tol=0.0001, verbose=0,\n",
       "                                           warm_start=False),\n",
       "              iid='warn', n_jobs=None, param_grid={'penalty': ['l1', 'l2']},\n",
       "              pre_dispatch='2*n_jobs', refit=True, return_train_score=False,\n",
       "              scoring=None, verbose=0),\n",
       " 'ada': AdaBoostClassifier(algorithm='SAMME.R', base_estimator=None, learning_rate=1.0,\n",
       "                    n_estimators=100, random_state=5)}"
      ]
     },
     "execution_count": 748,
     "metadata": {},
     "output_type": "execute_result"
    }
   ],
   "source": [
    "ensemble.named_estimators"
   ]
  },
  {
   "cell_type": "code",
   "execution_count": null,
   "metadata": {},
   "outputs": [],
   "source": []
  }
 ],
 "metadata": {
  "kernelspec": {
   "display_name": "Python 3",
   "language": "python",
   "name": "python3"
  },
  "language_info": {
   "codemirror_mode": {
    "name": "ipython",
    "version": 3
   },
   "file_extension": ".py",
   "mimetype": "text/x-python",
   "name": "python",
   "nbconvert_exporter": "python",
   "pygments_lexer": "ipython3",
   "version": "3.7.2"
  },
  "toc": {
   "base_numbering": 1,
   "nav_menu": {},
   "number_sections": true,
   "sideBar": true,
   "skip_h1_title": false,
   "title_cell": "Table of Contents",
   "title_sidebar": "Contents",
   "toc_cell": false,
   "toc_position": {},
   "toc_section_display": true,
   "toc_window_display": false
  },
  "varInspector": {
   "cols": {
    "lenName": 16,
    "lenType": 16,
    "lenVar": 40
   },
   "kernels_config": {
    "python": {
     "delete_cmd_postfix": "",
     "delete_cmd_prefix": "del ",
     "library": "var_list.py",
     "varRefreshCmd": "print(var_dic_list())"
    },
    "r": {
     "delete_cmd_postfix": ") ",
     "delete_cmd_prefix": "rm(",
     "library": "var_list.r",
     "varRefreshCmd": "cat(var_dic_list()) "
    }
   },
   "types_to_exclude": [
    "module",
    "function",
    "builtin_function_or_method",
    "instance",
    "_Feature"
   ],
   "window_display": false
  }
 },
 "nbformat": 4,
 "nbformat_minor": 2
}
