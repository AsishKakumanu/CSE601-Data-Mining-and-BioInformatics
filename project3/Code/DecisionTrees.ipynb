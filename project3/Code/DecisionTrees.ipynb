{
 "cells": [
  {
   "cell_type": "code",
   "execution_count": 38,
   "metadata": {},
   "outputs": [],
   "source": [
    "import numpy as np\n",
    "import numbers"
   ]
  },
  {
   "cell_type": "code",
   "execution_count": 39,
   "metadata": {},
   "outputs": [],
   "source": [
    "#to find total no.of classes in the dataset\n",
    "#dictionary will have class label and count of each label\n",
    "def countClass(data):\n",
    "    dictLabelCount = {}\n",
    "    for row in data:\n",
    "        label = row[-1]\n",
    "        if label not in dictLabelCount:\n",
    "            dictLabelCount[label] = 0\n",
    "        dictLabelCount[label] += 1\n",
    "    return dictLabelCount"
   ]
  },
  {
   "cell_type": "code",
   "execution_count": 40,
   "metadata": {},
   "outputs": [],
   "source": [
    "#to compute the gini index for dataset \n",
    "def gini(data):\n",
    "    counts = countClass(data)\n",
    "    giniVal = 1\n",
    "    for label in counts:\n",
    "        prob = counts[label] / float(len(data))\n",
    "        giniVal -= prob ** 2\n",
    "    return giniVal"
   ]
  },
  {
   "cell_type": "code",
   "execution_count": 41,
   "metadata": {},
   "outputs": [],
   "source": [
    "#dividing data based on attribute and attribute value\n",
    "def partition(data, col, val):\n",
    "    right = []\n",
    "    left = []\n",
    "    for row in data:\n",
    "        if isinstance(val, numbers.Number):\n",
    "            val = float(val)\n",
    "            col= int(col)\n",
    "            if row[col] >= val:\n",
    "                right.append(row)\n",
    "            else:\n",
    "                left.append(row)\n",
    "        else:\n",
    "            if row[col] == val:\n",
    "                right.append(row)\n",
    "            else:\n",
    "                left.append(row)\n",
    "    return left, right"
   ]
  },
  {
   "cell_type": "code",
   "execution_count": 42,
   "metadata": {},
   "outputs": [],
   "source": [
    "#computing gain using gini index\n",
    "def bestGainSplit(data):\n",
    "    bestGain , bestCol, bestVal = 0, 0, 0\n",
    "    if len(data) == 0:\n",
    "        return bestGain, bestCol, bestVal\n",
    "\n",
    "    curGINI = gini(data)\n",
    "    features = len(data[0]) - 1\n",
    "        \n",
    "    for col in range(features):\n",
    "        values = set([row[col] for row in data])\n",
    "        for val in values:\n",
    "            leftClass, rightClass = partition(data, col, val)\n",
    "            if isinstance(val, numbers.Number):\n",
    "                val = float(val)\n",
    "                col = int(col)\n",
    "            if len(leftClass) == 0 or len(rightClass) == 0:\n",
    "                continue\n",
    "            total = (len(rightClass) + len(leftClass))\n",
    "            probRight = float(len(rightClass) / total)\n",
    "            probleft = float(len(leftClass) / total)\n",
    "            #information gain calculation\n",
    "            gain = curGINI - (probleft * gini(leftClass)) - (probRight * gini(rightClass))\n",
    "        \n",
    "            if gain >= bestGain:\n",
    "                bestGain = gain\n",
    "                bestCol = col\n",
    "                bestVal = val\n",
    "       \n",
    "    return bestGain, bestCol, bestVal"
   ]
  },
  {
   "cell_type": "code",
   "execution_count": 43,
   "metadata": {},
   "outputs": [],
   "source": [
    "#how a prticular node looks like\n",
    "class TreeNode(object):\n",
    "    def __init__(self,col,val, left, right, rightClass, leftClass):\n",
    "        self.col = col\n",
    "        self.val = val\n",
    "        self.left = left\n",
    "        self.right = right\n",
    "        self.rightClass=rightClass\n",
    "        self.leftClass=leftClass"
   ]
  },
  {
   "cell_type": "code",
   "execution_count": 44,
   "metadata": {},
   "outputs": [],
   "source": [
    "#determining class of node after a perfect split\n",
    "def updateNode(data,col, val):\n",
    "    rightClass=0\n",
    "    leftClass=0\n",
    "    for row in data:\n",
    "        if int(row[-1])==1:\n",
    "            rightClass +=1\n",
    "        else:\n",
    "            leftClass +=1\n",
    "    return TreeNode(col, val, None, None,rightClass, leftClass)"
   ]
  },
  {
   "cell_type": "code",
   "execution_count": 45,
   "metadata": {},
   "outputs": [],
   "source": [
    "#building decision tree\n",
    "def buildDecisionTree(data):\n",
    "    gain, col, val = bestGainSplit(data)\n",
    "    if gain == 0:\n",
    "        return updateNode(data,None,None)\n",
    "    leftClass, rightClass = partition(data, col, val)\n",
    "    if isinstance(val, numbers.Number):\n",
    "        val = float(val)\n",
    "        col = int(col)\n",
    "    node = TreeNode(col,val, None, None,-1,-1)\n",
    "    node.left = buildDecisionTree(leftClass)\n",
    "    node.right = buildDecisionTree(rightClass)\n",
    "    return node"
   ]
  },
  {
   "cell_type": "code",
   "execution_count": 46,
   "metadata": {},
   "outputs": [],
   "source": [
    "def displayTree(root, tab):\n",
    "    tab+=\"      \"\n",
    "    if (root.left == None) and (root.right == None):\n",
    "        if root.rightClass >= root.leftClass:\n",
    "            print(tab + \"   ->(Class 1)\" )\n",
    "        else:\n",
    "            print(tab + \"   ->(Class 0)\" )\n",
    "        return\n",
    "    print(tab  + \"SPLIT\" + \": \" + str(root.val))\n",
    "    print( tab + '   ->left:')\n",
    "    displayTree(root.left, tab )\n",
    "    print( tab + '   ->Right:')\n",
    "    displayTree(root.right, tab )"
   ]
  },
  {
   "cell_type": "code",
   "execution_count": 47,
   "metadata": {},
   "outputs": [],
   "source": [
    "#predicting class label for test data\n",
    "def predictClass(root,data):\n",
    "    if root.left == None and root.right==None:\n",
    "        if (root.rightClass ==-1) and (root.leftClass == -1):\n",
    "            print(\"\")\n",
    "        if(root.rightClass >= root.leftClass):\n",
    "            return 1\n",
    "        else:\n",
    "            return 0\n",
    "    if isinstance(root.val, numbers.Number):\n",
    "        if(data[root.col] >= root.val):\n",
    "            return predictClass(root.right,data)\n",
    "        else:\n",
    "            return predictClass(root.left,data)\n",
    "    else:\n",
    "        if data[root.col] == root.val:\n",
    "            return predictClass(root.right,data)\n",
    "        else:\n",
    "            return predictClass(root.left,data)"
   ]
  },
  {
   "cell_type": "code",
   "execution_count": 48,
   "metadata": {},
   "outputs": [],
   "source": [
    "#dividing data into testing and training\n",
    "def split_data(data, iteration, no_of_folds):\n",
    "    batch = len(data) / no_of_folds\n",
    "    training_first = data[:int((iteration - 1) * batch)]\n",
    "    testing_data = data[int((iteration - 1) * batch):int(iteration * batch)]\n",
    "    training_last = data[int(iteration * batch):]\n",
    "    training_data = np.concatenate((training_first, training_last), axis=0)\n",
    "    return training_data, testing_data"
   ]
  },
  {
   "cell_type": "code",
   "execution_count": 49,
   "metadata": {
    "scrolled": false
   },
   "outputs": [
    {
     "name": "stdout",
     "output_type": "stream",
     "text": [
      "averageAccuracy  : 91.9204260651629\n",
      "averagePrecision  : 89.17466930052743\n",
      "averageRecall  : 89.02665450491538\n",
      "averageFMeasure  : 0.8885181069233683\n"
     ]
    }
   ],
   "source": [
    "#reading input file\n",
    "input_file = \"project3_dataset1.txt\"\n",
    "data = np.genfromtxt(input_file, dtype=None)\n",
    "data = np.array(data)\n",
    "\n",
    "fold = 10\n",
    "\n",
    "totalAccuracy = []\n",
    "totalPrecision = []\n",
    "totalRecall = []\n",
    "totalFMeasure = []\n",
    "\n",
    "for i in range(fold):\n",
    "    train_data, test_data = split_data(data, i + 1, 10)\n",
    "    root = None\n",
    "    root = buildDecisionTree(train_data)\n",
    "    \n",
    "    #printing tree\n",
    "    #displayTree(root,\"\")\n",
    "    \n",
    "    \n",
    "    test_label = []\n",
    "    for row in test_data:\n",
    "        test_label.append(int(row[-1]))\n",
    "\n",
    "    predictedLabels = []\n",
    "    for tdata in test_data:\n",
    "        label = predictClass(root,tdata)\n",
    "        predictedLabels.append(int(label))\n",
    "    \n",
    "    truePositive = 0\n",
    "    trueNegative = 0\n",
    "    falseNegative = 0\n",
    "    falsePositive = 0\n",
    "    \n",
    "    for j in range(len(test_label)):\n",
    "        if(test_label[j] == predictedLabels[j]):\n",
    "            if predictedLabels[j]==0:\n",
    "                trueNegative +=1\n",
    "            else:\n",
    "                truePositive +=1\n",
    "        else:\n",
    "            if(predictedLabels[j]==0):\n",
    "                falseNegative +=1\n",
    "            else:\n",
    "                falsePositive +=1\n",
    "    Accuracy = float(truePositive+trueNegative)/(truePositive+trueNegative+falseNegative+falsePositive)\n",
    "    Accuracy *= 100\n",
    "    Precision = float(truePositive/(truePositive+falsePositive))\n",
    "    Precision *= 100\n",
    "    Recall = float(truePositive/(truePositive+falseNegative))\n",
    "    Recall *= 100\n",
    "    FMeasure = float((2*truePositive)/((2*truePositive)+falseNegative+falsePositive))        \n",
    "\n",
    "    totalAccuracy.append(Accuracy)\n",
    "    totalPrecision.append(Precision)\n",
    "    totalRecall.append(Recall)\n",
    "    totalFMeasure.append(FMeasure)\n",
    "    #print(\"Iteration\", i + 1)\n",
    "\n",
    "print(\"averageAccuracy  : \"+str(np.sum(totalAccuracy)/fold))\n",
    "print(\"averagePrecision  : \"+str(np.sum(totalPrecision)/fold))\n",
    "print(\"averageRecall  : \"+str(np.sum(totalRecall)/fold))\n",
    "print(\"averageFMeasure  : \"+str(np.sum(totalFMeasure)/fold))  "
   ]
  },
  {
   "cell_type": "code",
   "execution_count": null,
   "metadata": {},
   "outputs": [],
   "source": []
  }
 ],
 "metadata": {
  "kernelspec": {
   "display_name": "Python 3",
   "language": "python",
   "name": "python3"
  },
  "language_info": {
   "codemirror_mode": {
    "name": "ipython",
    "version": 3
   },
   "file_extension": ".py",
   "mimetype": "text/x-python",
   "name": "python",
   "nbconvert_exporter": "python",
   "pygments_lexer": "ipython3",
   "version": "3.6.4"
  }
 },
 "nbformat": 4,
 "nbformat_minor": 2
}
