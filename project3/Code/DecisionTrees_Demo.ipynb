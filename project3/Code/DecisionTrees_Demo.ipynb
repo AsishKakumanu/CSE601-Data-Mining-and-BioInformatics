{
 "cells": [
  {
   "cell_type": "code",
   "execution_count": 1,
   "metadata": {},
   "outputs": [],
   "source": [
    "import numpy as np\n",
    "import numbers"
   ]
  },
  {
   "cell_type": "code",
   "execution_count": 2,
   "metadata": {},
   "outputs": [],
   "source": [
    "#to find total no.of classes in the dataset\n",
    "#dictionary will have class label and count of each label\n",
    "def countClass(data):\n",
    "    dictLabelCount = {}\n",
    "    for row in data:\n",
    "        label = row[-1]\n",
    "        if label not in dictLabelCount:\n",
    "            dictLabelCount[label] = 0\n",
    "        dictLabelCount[label] += 1\n",
    "    return dictLabelCount"
   ]
  },
  {
   "cell_type": "code",
   "execution_count": 3,
   "metadata": {},
   "outputs": [],
   "source": [
    "#to compute the gini index for dataset \n",
    "def gini(data):\n",
    "    counts = countClass(data)\n",
    "    giniVal = 1\n",
    "    for label in counts:\n",
    "        prob = counts[label] / float(len(data))\n",
    "        giniVal -= prob ** 2\n",
    "    return giniVal"
   ]
  },
  {
   "cell_type": "code",
   "execution_count": 4,
   "metadata": {},
   "outputs": [],
   "source": [
    "#dividing data based on attribute and attribute value\n",
    "def partition(data, col, val):\n",
    "    right = []\n",
    "    left = []\n",
    "    for row in data:\n",
    "        if isinstance(val, numbers.Number):\n",
    "            val = float(val)\n",
    "            col= int(col)\n",
    "            if row[col] >= val:\n",
    "                right.append(row)\n",
    "            else:\n",
    "                left.append(row)\n",
    "        else:\n",
    "            if row[col] == val:\n",
    "                right.append(row)\n",
    "            else:\n",
    "                left.append(row)\n",
    "    return left, right"
   ]
  },
  {
   "cell_type": "code",
   "execution_count": 82,
   "metadata": {},
   "outputs": [],
   "source": [
    "#computing gain using gini index\n",
    "def bestGainSplit(data):\n",
    "    bestGain , bestCol, bestVal = 0, 0, 0\n",
    "    if len(data) == 0:\n",
    "        return bestGain, bestCol, bestVal\n",
    "\n",
    "    curGINI = gini(data)\n",
    "    features = len(data[0]) - 1\n",
    "        \n",
    "    for col in range(features):\n",
    "        values = set([row[col] for row in data])\n",
    "        for val in values:\n",
    "            leftClass, rightClass = partition(data, col, val)\n",
    "            if isinstance(val, numbers.Number):\n",
    "                val = float(val)\n",
    "                col = int(col)\n",
    "            if len(leftClass) == 0 or len(rightClass) == 0:\n",
    "                continue\n",
    "            total = (len(rightClass) + len(leftClass))\n",
    "            probRight = float(len(rightClass) / total)\n",
    "            probleft = float(len(leftClass) / total)\n",
    "            #information gain calculation\n",
    "            gain = curGINI - (probleft * gini(leftClass)) - (probRight * gini(rightClass))\n",
    "                \n",
    "            if gain >= bestGain:\n",
    "                bestGain = gain\n",
    "                #print(\"bestgain---\",bestGain)\n",
    "                bestCol = col\n",
    "                #print(\"bestcol----\",bestCol)\n",
    "                bestVal = val\n",
    "                #print(\"bestval----\",bestVal)\n",
    "                \n",
    "    return bestGain, bestCol, bestVal"
   ]
  },
  {
   "cell_type": "code",
   "execution_count": 83,
   "metadata": {},
   "outputs": [],
   "source": [
    "#how a prticular node looks like\n",
    "class TreeNode(object):\n",
    "    def __init__(self,col,val, left, right, rightClass, leftClass):\n",
    "        self.col = col\n",
    "        self.val = val\n",
    "        self.left = left\n",
    "        self.right = right\n",
    "        self.rightClass=rightClass\n",
    "        self.leftClass=leftClass"
   ]
  },
  {
   "cell_type": "code",
   "execution_count": 84,
   "metadata": {},
   "outputs": [],
   "source": [
    "#determining class of node after a perfect split\n",
    "def updateNode(data,col, val):\n",
    "    rightClass=0\n",
    "    leftClass=0\n",
    "    for row in data:\n",
    "        if int(row[-1])==1:\n",
    "            rightClass +=1\n",
    "        else:\n",
    "            leftClass +=1\n",
    "    return TreeNode(col, val, None, None,rightClass, leftClass)"
   ]
  },
  {
   "cell_type": "code",
   "execution_count": 85,
   "metadata": {},
   "outputs": [],
   "source": [
    "#building decision tree\n",
    "def buildDecisionTree(data):\n",
    "    gain, col, val = bestGainSplit(data)\n",
    "    if gain == 0:\n",
    "        return updateNode(data,None,None)\n",
    "    leftClass, rightClass = partition(data, col, val)\n",
    "    if isinstance(val, numbers.Number):\n",
    "        val = float(val)\n",
    "        col = int(col)\n",
    "    node = TreeNode(col,val, None, None,-1,-1)\n",
    "    node.left = buildDecisionTree(leftClass)\n",
    "    node.right = buildDecisionTree(rightClass)\n",
    "    return node"
   ]
  },
  {
   "cell_type": "code",
   "execution_count": 86,
   "metadata": {},
   "outputs": [],
   "source": [
    "def printTree(root, tab):\n",
    "    tab+=\"      \"\n",
    "    if (root.left == None) and (root.right == None):\n",
    "        if root.rightClass >= root.leftClass:\n",
    "            print(tab + \"   ->(Class 1)\" )\n",
    "        else:\n",
    "            print(tab + \"   ->(Class 0)\" )\n",
    "        return\n",
    "    print(tab  + \"SPLIT\" + \": \" + str(root.val))\n",
    "    print( tab + '   ->left:')\n",
    "    printTree(root.left, tab )\n",
    "    print( tab + '   ->Right:')\n",
    "    printTree(root.right, tab )"
   ]
  },
  {
   "cell_type": "code",
   "execution_count": 87,
   "metadata": {},
   "outputs": [
    {
     "name": "stdout",
     "output_type": "stream",
     "text": [
      "[(b'sunny', b'hot', b'high', b'weak', 0)\n",
      " (b'sunny', b'hot', b'high', b'strong', 0)\n",
      " (b'overcast', b'hot', b'high', b'weak', 1)\n",
      " (b'rain', b'mild', b'high', b'weak', 1)\n",
      " (b'rain', b'cool', b'normal', b'weak', 1)\n",
      " (b'rain', b'cool', b'normal', b'strong', 0)\n",
      " (b'overcast', b'cool', b'normal', b'strong', 1)\n",
      " (b'sunny', b'mild', b'high', b'weak', 0)\n",
      " (b'sunny', b'cool', b'normal', b'weak', 1)\n",
      " (b'rain', b'mild', b'normal', b'weak', 1)\n",
      " (b'sunny', b'mild', b'normal', b'strong', 1)\n",
      " (b'overcast', b'mild', b'high', b'strong', 1)\n",
      " (b'overcast', b'hot', b'normal', b'weak', 1)\n",
      " (b'rain', b'mild', b'high', b'strong', 0)]\n"
     ]
    },
    {
     "name": "stderr",
     "output_type": "stream",
     "text": [
      "D:\\anaconda\\lib\\site-packages\\ipykernel_launcher.py:3: VisibleDeprecationWarning: Reading unicode strings without specifying the encoding argument is deprecated. Set the encoding, use None for the system default.\n",
      "  This is separate from the ipykernel package so we can avoid doing imports until\n"
     ]
    }
   ],
   "source": [
    "data=[]\n",
    "input_file = \"project3_dataset4.txt\"\n",
    "data = np.genfromtxt(input_file, dtype=None)\n",
    "data = np.array(data)\n",
    "\n",
    "print(data)"
   ]
  },
  {
   "cell_type": "code",
   "execution_count": 88,
   "metadata": {},
   "outputs": [
    {
     "name": "stdout",
     "output_type": "stream",
     "text": [
      "      SPLIT: b'overcast'\n",
      "         ->left:\n",
      "            SPLIT: b'normal'\n",
      "               ->left:\n",
      "                  SPLIT: b'rain'\n",
      "                     ->left:\n",
      "                           ->(Class 0)\n",
      "                     ->Right:\n",
      "                        SPLIT: b'strong'\n",
      "                           ->left:\n",
      "                                 ->(Class 1)\n",
      "                           ->Right:\n",
      "                                 ->(Class 0)\n",
      "               ->Right:\n",
      "                  SPLIT: b'strong'\n",
      "                     ->left:\n",
      "                           ->(Class 1)\n",
      "                     ->Right:\n",
      "                        SPLIT: b'mild'\n",
      "                           ->left:\n",
      "                                 ->(Class 0)\n",
      "                           ->Right:\n",
      "                                 ->(Class 1)\n",
      "         ->Right:\n",
      "               ->(Class 1)\n"
     ]
    }
   ],
   "source": [
    "root = None\n",
    "root = buildDecisionTree(data)\n",
    "printTree(root, \"\")"
   ]
  },
  {
   "cell_type": "code",
   "execution_count": null,
   "metadata": {},
   "outputs": [],
   "source": []
  }
 ],
 "metadata": {
  "kernelspec": {
   "display_name": "Python 3",
   "language": "python",
   "name": "python3"
  },
  "language_info": {
   "codemirror_mode": {
    "name": "ipython",
    "version": 3
   },
   "file_extension": ".py",
   "mimetype": "text/x-python",
   "name": "python",
   "nbconvert_exporter": "python",
   "pygments_lexer": "ipython3",
   "version": "3.6.4"
  }
 },
 "nbformat": 4,
 "nbformat_minor": 2
}
