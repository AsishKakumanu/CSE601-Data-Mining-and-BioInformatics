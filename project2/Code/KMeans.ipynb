{
 "cells": [
  {
   "cell_type": "markdown",
   "metadata": {},
   "source": [
    "## Imports"
   ]
  },
  {
   "cell_type": "code",
   "execution_count": 38,
   "metadata": {
    "ExecuteTime": {
     "end_time": "2019-10-31T01:55:24.527482Z",
     "start_time": "2019-10-31T01:55:24.523014Z"
    }
   },
   "outputs": [],
   "source": [
    "import numpy as np\n",
    "import sys, getopt\n",
    "from random import randint\n",
    "from math import sqrt\n",
    "import matplotlib.pyplot as plt\n",
    "import matplotlib.cm as colorMap\n",
    "from matplotlib.axes._axes import _log as matplotlib_axes_logger\n",
    "matplotlib_axes_logger.setLevel('ERROR')\n",
    "import os\n",
    "import pandas as pd\n",
    "\n",
    "## Importing Modules for PCA\n",
    "from sklearn.decomposition import PCA\n",
    "from sklearn.cluster import KMeans"
   ]
  },
  {
   "cell_type": "markdown",
   "metadata": {},
   "source": [
    "## Functions"
   ]
  },
  {
   "cell_type": "code",
   "execution_count": 48,
   "metadata": {
    "ExecuteTime": {
     "end_time": "2019-10-31T06:31:03.070318Z",
     "start_time": "2019-10-31T06:31:02.994656Z"
    }
   },
   "outputs": [],
   "source": [
    "# Function to read the data from the file\n",
    "def folder(pathname):\n",
    "    path = os.getcwd()\n",
    "    file = path + pathname\n",
    "    df = pd.read_csv(file, delimiter=\"\\t\", header=None,index_col=False)\n",
    "    return df\n",
    "\n",
    "# To find out the initial centroids using the given indices\n",
    "def initial_centroids(data,c):\n",
    "    centroid_data = []\n",
    "    for i in range(int(c)):\n",
    "        centroid_data.append(data[i])\n",
    "    return np.asarray(centroid_data)\n",
    "\n",
    "# Method to classify data points to which centroid or which cluster.\n",
    "def classify(data,centroids):\n",
    "    euc_all = []\n",
    "    for i in range(len(centroids)):\n",
    "        euc_all.insert(i, distance(data, centroids[i]))\n",
    "        #print(np.argmin(euc_all))\n",
    "    \n",
    "    return np.argmin(euc_all) + 1\n",
    "\n",
    "# Method which returns the distance between a datapoint and the centroid.\n",
    "def distance(data,centroid):\n",
    "    distance = 0\n",
    "    for i in range(len(data)):\n",
    "        distance += ((data[i] - centroid[i]) ** 2)\n",
    "    \n",
    "    return sqrt(distance)\n",
    "\n",
    "# Update the centroids\n",
    "def update(data, clustered_class, old_centroids):\n",
    "    centroids = []\n",
    "    for i in range(len(old_centroids)):\n",
    "        temp_array = np.asarray([np.where(clustered_class[:] == i+1)][0])[0]\n",
    "        per_cluster = data[temp_array,:]\n",
    "        if len(per_cluster) == 0:\n",
    "            centroids.insert(i, old_centroids[i])\n",
    "        else:\n",
    "            centroids.insert(i,np.mean(per_cluster, axis=0))\n",
    "    return np.asarray(centroids)\n",
    "\n",
    "# Generate an Incidence Matrix to Calculate Coefficients\n",
    "def incidence_matrix(classes):\n",
    "    class_length = len(classes)\n",
    "    incidence_mat = np.zeros((class_length, class_length))\n",
    "    val = None\n",
    "    for i in range(class_length):\n",
    "        for j in range(class_length):\n",
    "            if classes[i] == classes[j]:\n",
    "                val = 1\n",
    "            else:\n",
    "                val = 0\n",
    "            incidence_mat[i][j] = val\n",
    "    return incidence_mat\n",
    "\n",
    "# Method to Plot the graph\n",
    "def plot_2D(centroids, pca_data, c_classes,fileName):\n",
    "    legend = list()\n",
    "    classes = np.unique(c_classes)\n",
    "    class_len = len(classes)\n",
    "    colors = colorMap.Set1(np.linspace(0, 1, class_len))\n",
    "    for i in range(class_len):\n",
    "        cluster_data = pca_data[np.where(c_classes[:] == classes[i])]\n",
    "        legend.append(plt.scatter(cluster_data[:, 0], cluster_data[:, 1], c=colors[i], s=10))\n",
    "        plt.scatter(centroids[i, 0], centroids[i, 1], s=100, marker=\"x\", c=colors[i])\n",
    "    plt.legend(legend, classes,title=\"Clusters\",fancybox=\"True\")\n",
    "    plt.title(\"KMeans on \" + str(fileName))\n",
    "    plt.show()\n",
    "\n",
    "# Method to Reduce the total number of Components.\n",
    "def Reduced_Plot(components, new_centroids, real_data, k, cluster_class, inputfile):\n",
    "    #print(real_data.shape)\n",
    "    #print(new_centroids.shape)\n",
    "    pca = PCA(n_components=components).fit_transform(np.vstack((new_centroids, real_data)))\n",
    "    pca_c = pca[0:k, :]\n",
    "    pca = pca[k:, :]\n",
    "    #print(pca_c)\n",
    "    #print(pca.shape)\n",
    "    plot_2D(pca_c,pca,cluster_class,inputfile)\n",
    "\n",
    "# Method to count the number of True Positive, TN, FP, FN.\n",
    "def validate_count(ground_truth, data_matrix):\n",
    "    m11 = m00 = m10 = m01 = 0.0\n",
    "    for i in range(len(ground_truth)):\n",
    "        for j in range(len(ground_truth)):\n",
    "            if ground_truth[i][j] == data_matrix[i][j]:\n",
    "                if ground_truth[i][j] == 1:\n",
    "                    m11 = m11 + 1\n",
    "                else:\n",
    "                    m00 = m00 + 1\n",
    "            \n",
    "            else:\n",
    "                if ground_truth[i][j] == 1:\n",
    "                    m10 = m10 + 1\n",
    "                else:\n",
    "                    m01 = m01 + 1\n",
    "    return m11, m00, m10, m01\n",
    "    \n",
    "# Methods which calculate the Coefficients.\n",
    "def calc_jaquard(m11, m00, m10, m01):\n",
    "    return (m11 / (m11 + m10 + m01))\n",
    "\n",
    "def calc_rand(m11, m00, m10, m01):\n",
    "    return ((m11+m00)/(m11+m00+m10+m01))"
   ]
  },
  {
   "cell_type": "markdown",
   "metadata": {},
   "source": [
    "## Main Method"
   ]
  },
  {
   "cell_type": "code",
   "execution_count": 49,
   "metadata": {
    "ExecuteTime": {
     "end_time": "2019-10-31T06:31:11.453720Z",
     "start_time": "2019-10-31T06:31:04.509426Z"
    }
   },
   "outputs": [
    {
     "name": "stdout",
     "output_type": "stream",
     "text": [
      "Enter File Name: GMM_tab_seperated.txt\n",
      "Indices or No.of.centroids : 2\n",
      "No.of.Iterations: 50\n",
      "input File : GMM_tab_seperated.txt, centroids : 2 , iterations : 50\n",
      "Convereged after : 9 iterations.\n",
      "Any Specific Requirements for the no.of.components: y or n: n\n",
      "Jaccard Coefficient: 0.6385231048021746\n",
      "Rand Index: 0.808504\n"
     ]
    },
    {
     "data": {
      "image/png": "[encoded data removed]",
      "text/plain": [
       "<Figure size 432x288 with 1 Axes>"
      ]
     },
     "metadata": {
      "needs_background": "light"
     },
     "output_type": "display_data"
    }
   ],
   "source": [
    "    \n",
    "# Main Method\n",
    "def main(*argv):\n",
    "    inputfile = argv[0]\n",
    "    centroids = argv[1]\n",
    "    iterations = argv[2]\n",
    "    len_of_centroid = None\n",
    "    \n",
    "    if centroids is None:\n",
    "        centroids = 3  ## Default\n",
    "    if iterations is None:\n",
    "        iterations = 30 ## Default\n",
    "    print(f\"input File : {inputfile}, centroids : {centroids} , iterations : {iterations}\")\n",
    "\n",
    "    # Passing Folder\n",
    "    df = folder(str('/' + inputfile))\n",
    "    numpy_df = df.to_numpy()\n",
    "\n",
    "    # Processing Dataset\n",
    "    gene_id = numpy_df[:, 0] # First Column\n",
    "    ground_truth = numpy_df[:, 1].astype(int)  # Classes , Second Column\n",
    "    unq_classes = np.unique(ground_truth)\n",
    "    class_length = len(unq_classes)\n",
    "    ground_truth_matrix = incidence_matrix(ground_truth)\n",
    "    real_data = np.delete(numpy_df, [0, 1], axis=1)\n",
    "    \n",
    "    # Getting Centroids from indices\n",
    "    if isinstance(centroids,str) and len(centroids) >1:\n",
    "        centroid_data = real_data[np.asarray(centroids.split(',')).astype(int) - 1, :].astype(float)\n",
    "        \n",
    "    # Picking Centroids randomly from the data\n",
    "    else: \n",
    "        centroid_data = initial_centroids(real_data, centroids)\n",
    "        \n",
    "\n",
    "    k = len(centroid_data)\n",
    "    count = 1\n",
    "    for i in range(int(iterations)):\n",
    "        cluster_class = []\n",
    "        for j in range(len(real_data)):\n",
    "            cluster_class.insert(j, classify(real_data\n",
    "            [j], centroid_data))\n",
    "        \n",
    "        cluster_class = np.asarray(cluster_class)\n",
    "        new_centroids = update(real_data, cluster_class, centroid_data)\n",
    "        #print(new_centroids)\n",
    "\n",
    "        if np.array_equal(centroid_data, new_centroids):\n",
    "            break\n",
    "        centroid_data = new_centroids\n",
    "        count = count + 1\n",
    "    print(\"Convereged after : \" + str(count) + \" iterations.\")\n",
    "\n",
    "    # Dimensionality Reduction\n",
    "    components = None\n",
    "    option = str(input(\"Any Specific Requirements for the no.of.components: y or n: \"))\n",
    "    if option == 'y':\n",
    "        components = int(input(\"Enter the no.of.components: \"))\n",
    "        components = components\n",
    "    else:\n",
    "        components = 2\n",
    "\n",
    "    final_matrix = incidence_matrix(cluster_class.astype(int))\n",
    "    m11, m00, m10, m01 = validate_count(ground_truth_matrix, final_matrix)\n",
    "\n",
    "    print(\"Jaccard Coefficient: \" + str(calc_jaquard(m11, m00, m10, m01)))\n",
    "\n",
    "    print(\"Rand Index: \" + str(calc_rand(m11, m00, m10, m01)))\n",
    "    \n",
    "    Reduced_Plot(components, new_centroids, real_data, k, cluster_class, inputfile)\n",
    "\n",
    "\n",
    "if __name__ == \"__main__\":\n",
    "    file = input(\"Enter File Name: \")\n",
    "    centroids = input(\"Indices or No.of.centroids : \")\n",
    "    iterations = input(\"No.of.Iterations: \")\n",
    "    main(file,centroids,iterations)"
   ]
  },
  {
   "cell_type": "code",
   "execution_count": null,
   "metadata": {},
   "outputs": [],
   "source": []
  }
 ],
 "metadata": {
  "kernelspec": {
   "display_name": "Python 3",
   "language": "python",
   "name": "python3"
  },
  "language_info": {
   "codemirror_mode": {
    "name": "ipython",
    "version": 3
   },
   "file_extension": ".py",
   "mimetype": "text/x-python",
   "name": "python",
   "nbconvert_exporter": "python",
   "pygments_lexer": "ipython3",
   "version": "3.7.2"
  },
  "toc": {
   "base_numbering": 1,
   "nav_menu": {},
   "number_sections": true,
   "sideBar": true,
   "skip_h1_title": false,
   "title_cell": "Table of Contents",
   "title_sidebar": "Contents",
   "toc_cell": false,
   "toc_position": {},
   "toc_section_display": true,
   "toc_window_display": false
  },
  "varInspector": {
   "cols": {
    "lenName": 16,
    "lenType": 16,
    "lenVar": 40
   },
   "kernels_config": {
    "python": {
     "delete_cmd_postfix": "",
     "delete_cmd_prefix": "del ",
     "library": "var_list.py",
     "varRefreshCmd": "print(var_dic_list())"
    },
    "r": {
     "delete_cmd_postfix": ") ",
     "delete_cmd_prefix": "rm(",
     "library": "var_list.r",
     "varRefreshCmd": "cat(var_dic_list()) "
    }
   },
   "position": {
    "height": "379px",
    "left": "1069px",
    "right": "20px",
    "top": "120px",
    "width": "350px"
   },
   "types_to_exclude": [
    "module",
    "function",
    "builtin_function_or_method",
    "instance",
    "_Feature"
   ],
   "window_display": false
  }
 },
 "nbformat": 4,
 "nbformat_minor": 2
}
