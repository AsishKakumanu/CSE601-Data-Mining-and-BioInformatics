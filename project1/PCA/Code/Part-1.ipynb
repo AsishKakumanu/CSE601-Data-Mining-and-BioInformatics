{
 "cells": [
  {
   "cell_type": "markdown",
   "metadata": {},
   "source": [
    "## Imports"
   ]
  },
  {
   "cell_type": "code",
   "execution_count": 18,
   "metadata": {
    "ExecuteTime": {
     "end_time": "2019-09-25T23:16:05.252285Z",
     "start_time": "2019-09-25T23:16:02.924227Z"
    },
    "run_control": {
     "marked": false
    }
   },
   "outputs": [
    {
     "name": "stdout",
     "output_type": "stream",
     "text": [
      "Requirement already satisfied: pandas in /usr/local/lib/python3.7/site-packages (0.25.1)\n",
      "Requirement already satisfied: pytz>=2017.2 in /usr/local/lib/python3.7/site-packages (from pandas) (2019.2)\n",
      "Requirement already satisfied: numpy>=1.13.3 in /usr/local/lib/python3.7/site-packages (from pandas) (1.17.2)\n",
      "Requirement already satisfied: python-dateutil>=2.6.1 in /usr/local/lib/python3.7/site-packages (from pandas) (2.8.0)\n",
      "Requirement already satisfied: six>=1.5 in /usr/local/lib/python3.7/site-packages (from python-dateutil>=2.6.1->pandas) (1.12.0)\n",
      "Requirement already satisfied: sklearn in /usr/local/lib/python3.7/site-packages (0.0)\n",
      "Requirement already satisfied: scikit-learn in /usr/local/lib/python3.7/site-packages (from sklearn) (0.21.3)\n",
      "Requirement already satisfied: joblib>=0.11 in /usr/local/lib/python3.7/site-packages (from scikit-learn->sklearn) (0.13.2)\n",
      "Requirement already satisfied: scipy>=0.17.0 in /usr/local/lib/python3.7/site-packages (from scikit-learn->sklearn) (1.3.1)\n",
      "Requirement already satisfied: numpy>=1.11.0 in /usr/local/lib/python3.7/site-packages (from scikit-learn->sklearn) (1.17.2)\n",
      "Requirement already satisfied: plotly in /usr/local/lib/python3.7/site-packages (4.1.1)\n",
      "Requirement already satisfied: retrying>=1.3.3 in /usr/local/lib/python3.7/site-packages (from plotly) (1.3.3)\n",
      "Requirement already satisfied: six in /usr/local/lib/python3.7/site-packages (from plotly) (1.12.0)\n"
     ]
    }
   ],
   "source": [
    "!pip3 install pandas\n",
    "!pip3 install sklearn\n",
    "!pip3 install plotly\n",
    "import numpy as np\n",
    "import pandas as pd\n",
    "import os\n",
    "import matplotlib.pyplot as plt\n",
    "from sklearn.decomposition import TruncatedSVD\n",
    "from sklearn.manifold import TSNE\n",
    "import plotly.express as px"
   ]
  },
  {
   "cell_type": "markdown",
   "metadata": {},
   "source": [
    "## Change Source Dataset here"
   ]
  },
  {
   "cell_type": "code",
   "execution_count": 19,
   "metadata": {
    "ExecuteTime": {
     "end_time": "2019-09-25T23:16:05.257781Z",
     "start_time": "2019-09-25T23:16:05.255037Z"
    }
   },
   "outputs": [],
   "source": [
    "dataset = \"/Dataset/pca_demo.txt\""
   ]
  },
  {
   "cell_type": "markdown",
   "metadata": {},
   "source": [
    "## Definitions"
   ]
  },
  {
   "cell_type": "code",
   "execution_count": 20,
   "metadata": {
    "ExecuteTime": {
     "end_time": "2019-09-25T23:16:05.266684Z",
     "start_time": "2019-09-25T23:16:05.260581Z"
    }
   },
   "outputs": [],
   "source": [
    "def sourceFolder(file):\n",
    "    path = os.getcwd()\n",
    "    file = path + file\n",
    "    return file\n",
    "\n",
    "def horizontalStack(transformed, class_label):\n",
    "    final_dataframe = np.hstack((transformed, class_label))\n",
    "    return final_dataframe\n",
    "\n",
    "def plot2D(final_dataframe):\n",
    "    groups = final_dataframe.groupby('label')\n",
    "    figure, axes = plt.subplots()\n",
    "    axes.margins(0.05)\n",
    "    for disease, data in groups:\n",
    "        axes.plot(data.x, data.y, marker='o', linestyle='', ms=6, label=disease)\n",
    "        axes.set_title(\"PCA.txt\")\n",
    "    axes.legend()\n",
    "    plt.xlabel(\"Component 1\")\n",
    "    plt.ylabel(\"Component 2\")\n",
    "    plt.show()\n",
    "\n",
    "def plot3D(final_dataframe):\n",
    "    fig = px.scatter_3d(final_dataframe, x='x', y='y', z='z', color='label')\n",
    "    fig.show()"
   ]
  },
  {
   "cell_type": "markdown",
   "metadata": {},
   "source": [
    "## Extracting Data and labels "
   ]
  },
  {
   "cell_type": "code",
   "execution_count": 21,
   "metadata": {
    "ExecuteTime": {
     "end_time": "2019-09-25T23:16:05.295646Z",
     "start_time": "2019-09-25T23:16:05.268947Z"
    }
   },
   "outputs": [],
   "source": [
    "path = sourceFolder(dataset)\n",
    "df = pd.read_csv(path, delimiter=\"\\t\", header=None)\n",
    "\n",
    "# Extracting the label from dataset\n",
    "class_label = pd.DataFrame(df.iloc[:, -1])\n",
    "class_label.columns = ['label']\n",
    "df = df.iloc[:, :-1]"
   ]
  },
  {
   "cell_type": "markdown",
   "metadata": {},
   "source": [
    "## PCA"
   ]
  },
  {
   "cell_type": "code",
   "execution_count": 22,
   "metadata": {
    "ExecuteTime": {
     "end_time": "2019-09-25T23:16:05.578833Z",
     "start_time": "2019-09-25T23:16:05.297403Z"
    }
   },
   "outputs": [
    {
     "data": {
      "image/png": "[encoded data removed]",
      "text/plain": [
       "<Figure size 432x288 with 1 Axes>"
      ]
     },
     "metadata": {
      "needs_background": "light"
     },
     "output_type": "display_data"
    }
   ],
   "source": [
    "# Normalizing the data\n",
    "df = df.sub(df.mean(axis=0), axis=1)\n",
    "\n",
    "# Calculating Covariance Matrix\n",
    "df_mat = np.asmatrix(df)\n",
    "s = np.cov(df_mat.T)\n",
    "\n",
    "# Eigen Values & Eigen Vectors\n",
    "eigenVal, eigenVec = np.linalg.eig(s)\n",
    "\n",
    "# Sorting of Eigen Vec & Vals\n",
    "sorted_index = eigenVal.argsort()[::-1] \n",
    "eigenVal = eigenVal[sorted_index]\n",
    "eigenVec = eigenVec[:, sorted_index]\n",
    "\n",
    "# Forming a reduced dimensional vectors\n",
    "eigVec = eigenVec[:, :2]\n",
    "transformed = df_mat.dot(eigVec)\n",
    "\n",
    "# Attaching the labels to the vectors\n",
    "final_dataframe = horizontalStack(transformed, class_label)\n",
    "\n",
    "# Convert the numpy array to data frame\n",
    "final_dataframe = pd.DataFrame(final_dataframe)\n",
    "\n",
    "# Defining the column names\n",
    "final_dataframe.columns = ['x','y','label']\n",
    "\n",
    "# Changing Complex values to real values\n",
    "A = [x.real for x in final_dataframe.x]\n",
    "B = [x.real for x in final_dataframe.y]\n",
    "\n",
    "# Adding Values to dictionary \n",
    "dictFrame = {'X': A, 'Y': B}\n",
    "\n",
    "# Converting dictionary to a dataframe\n",
    "dFrame = pd.DataFrame(dictFrame)\n",
    "\n",
    "# Appending label column to the dataframe\n",
    "changed_dataFrame = horizontalStack(dFrame, class_label)\n",
    "\n",
    "# Changing the array to dataframe and changing the column labels\n",
    "changed_dataFrame = pd.DataFrame(changed_dataFrame)\n",
    "changed_dataFrame.columns = ['x', 'y', 'label']\n",
    "\n",
    "# Plotting the clusters\n",
    "plot2D(changed_dataFrame)"
   ]
  },
  {
   "cell_type": "markdown",
   "metadata": {},
   "source": [
    "## SVD"
   ]
  },
  {
   "cell_type": "code",
   "execution_count": 23,
   "metadata": {
    "ExecuteTime": {
     "end_time": "2019-09-25T23:16:05.890492Z",
     "start_time": "2019-09-25T23:16:05.581012Z"
    }
   },
   "outputs": [
    {
     "data": {
      "application/vnd.plotly.v1+json": {
       "config": {
        "plotlyServerURL": "https://plot.ly"
       },
       "data": [
        {
         "hoverlabel": {
          "namelength": 0
         },
         "hovertemplate": "label=ALL<br>x=%{x}<br>y=%{y}<br>z=%{z}",
         "legendgroup": "label=ALL",
         "marker": {
          "color": "#636efa",
          "symbol": "circle"
         },
         "mode": "markers",
         "name": "label=ALL",
         "scene": "scene",
         "showlegend": true,
         "type": "scatter3d",
         "x": [
          1.0250358927189773,
          0.7305373202334362,
          0.8940865980230104,
          0.355461077382918,
          0.9412144016483036,
          1.2804112762641378,
          0.81185971044631,
          0.5207145383695624,
          0.35260621163368616,
          1.0398878832171277,
          0.7799525727731346,
          0.5555676670784586,
          0.8468390406250116,
          0.3658964340058546,
          0.6240171085264857,
          1.1168893984099209,
          0.6389083110522836,
          0.7961709894883059,
          1.1674280790777665,
          0.9484984270344173,
          0.6953485611345362,
          1.106428520200772,
          0.7816650990433048,
          0.6361676993866412,
          0.5497586023420373,
          1.6404899282515026,
          0.6981133174688663,
          0.9509647799528257,
          1.623336469996835,
          0.7914508561704963,
          0.49738326705520514,
          0.3193368957729939,
          1.318323740846035,
          0.38064144757375956,
          0.855548646533859,
          0.6423108853320163,
          0.29895911635306555,
          1.013083852677288
         ],
         "y": [
          -0.007033742339687408,
          -0.3624002062778544,
          -0.18970959719561953,
          -0.13654250488675537,
          0.06997234052077514,
          0.2592544674890695,
          -0.19483082902289084,
          -0.024146107019883428,
          0.11497027456023681,
          -0.5225948006521601,
          -0.6442763143966342,
          -0.3495609049859667,
          -0.292102304186231,
          -0.1612119991201538,
          -0.1038416374826286,
          -0.21083689939407474,
          -0.4032224918555612,
          -0.054776518428212954,
          0.11196073099721951,
          -0.500047196171811,
          -0.2675455731039348,
          -0.16331216002168822,
          0.3681045347235616,
          -0.16686736062265498,
          0.33614477180914776,
          -0.0503486512206545,
          -0.47606195565346326,
          -0.3580319686257111,
          0.17817581857325232,
          -0.26035619685382005,
          -0.5607309873184412,
          -0.31142942789642425,
          -0.2214036479130932,
          0.04957590455231827,
          0.19878863797177995,
          0.08433831862284721,
          0.28698182417430046,
          0.16776825337210455
         ],
         "z": [
          0.0579591357315231,
          -0.434811004238527,
          -0.1460931489349005,
          -0.43151059341971876,
          0.3324291665283811,
          -0.4399088820833757,
          0.10063446034277126,
          0.5627420213964902,
          0.09637928115697594,
          -0.48280111336494164,
          0.42790127911220677,
          0.3148750426560438,
          -0.3662444968333928,
          -0.18874127870609705,
          0.17880389298601665,
          0.3811909605946432,
          0.03229724503101158,
          -0.12946774651824955,
          -0.081280002773116,
          0.1561547935154934,
          0.0961442560576297,
          -0.205990326384593,
          -0.5072631407998234,
          0.026388871832179986,
          -0.2101773730486334,
          0.05666893337767779,
          -0.4400914074504399,
          0.30761232994117843,
          -0.11961861433141656,
          -0.08181358088810059,
          0.32777029682938896,
          -0.12475308122540583,
          0.07236178489297931,
          -0.046243326645837655,
          0.28726084826101156,
          0.2339587561784764,
          -0.32806526638523575,
          -0.24341003964355756
         ]
        },
        {
         "hoverlabel": {
          "namelength": 0
         },
         "hovertemplate": "label=AML<br>x=%{x}<br>y=%{y}<br>z=%{z}",
         "legendgroup": "label=AML",
         "marker": {
          "color": "#EF553B",
          "symbol": "circle"
         },
         "mode": "markers",
         "name": "label=AML",
         "scene": "scene",
         "showlegend": true,
         "type": "scatter3d",
         "x": [
          -0.36001927266344336,
          0.01826216714675174,
          -0.05277832412104455,
          0.031578043982354864,
          -0.409742087557765,
          -0.3384478161500707,
          -0.6687603010819533,
          -0.14816031337261876,
          -0.051629357055639556,
          -0.3421146869193885,
          -0.1907642729700576,
          -0.026578716632354348,
          -0.27552180492308126
         ],
         "y": [
          0.935084337138956,
          0.9043668433317363,
          0.9204889589447008,
          0.8691889763540375,
          0.8987516019304488,
          1.1185406953001071,
          1.1397867814483207,
          0.813815140073728,
          0.6193842633706389,
          1.098676360231825,
          1.0189225808877729,
          0.9134780535219559,
          0.8193013386695376
         ],
         "z": [
          0.38975810323842414,
          0.5692168205755194,
          0.991559913404775,
          0.7231132343499068,
          0.12702787851811317,
          0.3758686598846503,
          0.18413304577853007,
          0.4854844391514151,
          1.0450952546227061,
          0.4980893858424383,
          0.37276795176231786,
          0.5946883435534965,
          0.49752202386644206
         ]
        },
        {
         "hoverlabel": {
          "namelength": 0
         },
         "hovertemplate": "label=Breast Cancer<br>x=%{x}<br>y=%{y}<br>z=%{z}",
         "legendgroup": "label=Breast Cancer",
         "marker": {
          "color": "#00cc96",
          "symbol": "circle"
         },
         "mode": "markers",
         "name": "label=Breast Cancer",
         "scene": "scene",
         "showlegend": true,
         "type": "scatter3d",
         "x": [
          -0.6765768961587191,
          -0.44601887002752333,
          -0.40288617077633604,
          -0.4515983036691709,
          -0.525485586277968,
          -0.46321562166086283,
          -0.5760405081597493,
          -0.7486154447261041,
          -0.8746195907019539,
          -0.3533607574211385,
          -0.6002881784849985,
          -0.9174646711966986,
          -0.87610472534164,
          -0.40863856272870025,
          -1.0190679795153867,
          -0.35485097537011473,
          -0.8637164349319876,
          -0.7858657321477084,
          -0.47082591553183334,
          -0.35640955186731016,
          -0.8274219050026096,
          -0.4823615770527005,
          -0.7410096600304477,
          -0.3676134465447166,
          -0.3689023119700988,
          -0.4325023063557831,
          -0.6488114173890952,
          -0.6379590771044226,
          -1.286081006458007,
          -1.0150219134872684,
          -0.6569473485320512,
          -0.69909422518066,
          -0.6698966477306776,
          -0.49792778106026725,
          -1.1291398944610398,
          -0.2871060029590527,
          -0.3330576856198005,
          -0.5175428554809657,
          -0.4371614678597389
         ],
         "y": [
          -0.2482927284864684,
          0.28008399409495877,
          -1.0160485457342099,
          -0.23481945339210536,
          -0.06538547403283641,
          -0.16019578400747464,
          0.17353281224896513,
          -0.13531770550160002,
          -0.15053031980692244,
          -0.17925540930071263,
          -0.6666743802574665,
          -0.289808769747507,
          -0.40070542375750684,
          -0.5602433064366223,
          -0.01950972242188719,
          -0.5394311865832467,
          -0.6010684128369957,
          -0.3650264103419901,
          -0.40404470978821416,
          -0.3773091709725506,
          0.16443540954065158,
          -0.42379818623230003,
          -0.7137981686847139,
          -0.664073302013312,
          -0.36544254046718366,
          -0.22609212602245446,
          -0.49866476827948936,
          -0.7754226038083475,
          -0.47980201720972643,
          -0.6768848623026155,
          -0.35387064259279544,
          -0.33861988653379493,
          -0.6785340492570187,
          -0.30318701052225144,
          -0.27639943525721733,
          -0.13371330071478404,
          -0.31619910065071594,
          -0.6321728647979648,
          -0.7744924883407034
         ],
         "z": [
          -0.04368059380789283,
          -0.18343041892789166,
          0.38270830777285436,
          -0.20482288642417426,
          0.10191112221049851,
          0.15524310596989277,
          -0.18347141973041747,
          0.32356979414773707,
          -0.05776383332364951,
          -0.05413262972346906,
          -0.36392052619263004,
          -0.04640321617100549,
          0.0779633857710923,
          0.0990280168859083,
          0.08448959640152134,
          0.6534378593559417,
          -0.08402712604596609,
          0.43822779556950403,
          0.29517693474698137,
          -0.35869024084321555,
          0.2038805830643068,
          0.18042956489097214,
          -0.2893236789205488,
          -0.19711646489079182,
          0.3958399418656553,
          -0.2211382802657366,
          0.10540067991128722,
          -0.034895164880435425,
          -0.13615192924315428,
          -0.07756085483547452,
          0.07090208381209825,
          0.1001009138456171,
          -0.19025950332826003,
          -0.0020639595931060636,
          0.3839717158592177,
          0.20368059838257097,
          -0.039378106534846066,
          -0.01253757456915601,
          -0.002032202878125441
         ]
        },
        {
         "hoverlabel": {
          "namelength": 0
         },
         "hovertemplate": "label=Colon Cancer<br>x=%{x}<br>y=%{y}<br>z=%{z}",
         "legendgroup": "label=Colon Cancer",
         "marker": {
          "color": "#ab63fa",
          "symbol": "circle"
         },
         "mode": "markers",
         "name": "label=Colon Cancer",
         "scene": "scene",
         "showlegend": true,
         "type": "scatter3d",
         "x": [
          -0.31451152478810956,
          -0.4477693734404703,
          -0.2725147852651734,
          -0.19411470381694612,
          -0.025448157401742836,
          -0.5831385265804804,
          -0.3165607372289071,
          -0.3909131969147118,
          -0.47065100644144836,
          -0.5537868629295485
         ],
         "y": [
          0.6489109172718769,
          0.4800997365064103,
          0.8322773508209524,
          0.6600705689139389,
          0.8668440276190535,
          0.840569975363739,
          0.8310115465683123,
          0.648717091936832,
          0.8251626875913916,
          0.4905183226922908
         ],
         "z": [
          -0.8747185455870778,
          -0.9324725130126342,
          -0.6510869870947937,
          -0.7255600438997033,
          -0.6816290192932113,
          -0.7615341844552914,
          -0.6666175853051289,
          -0.6227229120751091,
          -0.642847958125431,
          -0.8095456277808083
         ]
        }
       ],
       "layout": {
        "height": 600,
        "legend": {
         "tracegroupgap": 0
        },
        "margin": {
         "t": 60
        },
        "scene": {
         "domain": {
          "x": [
           0,
           0.98
          ],
          "y": [
           0,
           1
          ]
         },
         "xaxis": {
          "title": {
           "text": "x"
          }
         },
         "yaxis": {
          "title": {
           "text": "y"
          }
         },
         "zaxis": {
          "title": {
           "text": "z"
          }
         }
        },
        "template": {
         "data": {
          "bar": [
           {
            "error_x": {
             "color": "#2a3f5f"
            },
            "error_y": {
             "color": "#2a3f5f"
            },
            "marker": {
             "line": {
              "color": "#E5ECF6",
              "width": 0.5
             }
            },
            "type": "bar"
           }
          ],
          "barpolar": [
           {
            "marker": {
             "line": {
              "color": "#E5ECF6",
              "width": 0.5
             }
            },
            "type": "barpolar"
           }
          ],
          "carpet": [
           {
            "aaxis": {
             "endlinecolor": "#2a3f5f",
             "gridcolor": "white",
             "linecolor": "white",
             "minorgridcolor": "white",
             "startlinecolor": "#2a3f5f"
            },
            "baxis": {
             "endlinecolor": "#2a3f5f",
             "gridcolor": "white",
             "linecolor": "white",
             "minorgridcolor": "white",
             "startlinecolor": "#2a3f5f"
            },
            "type": "carpet"
           }
          ],
          "choropleth": [
           {
            "colorbar": {
             "outlinewidth": 0,
             "ticks": ""
            },
            "type": "choropleth"
           }
          ],
          "contour": [
           {
            "colorbar": {
             "outlinewidth": 0,
             "ticks": ""
            },
            "colorscale": [
             [
              0,
              "#0d0887"
             ],
             [
              0.1111111111111111,
              "#46039f"
             ],
             [
              0.2222222222222222,
              "#7201a8"
             ],
             [
              0.3333333333333333,
              "#9c179e"
             ],
             [
              0.4444444444444444,
              "#bd3786"
             ],
             [
              0.5555555555555556,
              "#d8576b"
             ],
             [
              0.6666666666666666,
              "#ed7953"
             ],
             [
              0.7777777777777778,
              "#fb9f3a"
             ],
             [
              0.8888888888888888,
              "#fdca26"
             ],
             [
              1,
              "#f0f921"
             ]
            ],
            "type": "contour"
           }
          ],
          "contourcarpet": [
           {
            "colorbar": {
             "outlinewidth": 0,
             "ticks": ""
            },
            "type": "contourcarpet"
           }
          ],
          "heatmap": [
           {
            "colorbar": {
             "outlinewidth": 0,
             "ticks": ""
            },
            "colorscale": [
             [
              0,
              "#0d0887"
             ],
             [
              0.1111111111111111,
              "#46039f"
             ],
             [
              0.2222222222222222,
              "#7201a8"
             ],
             [
              0.3333333333333333,
              "#9c179e"
             ],
             [
              0.4444444444444444,
              "#bd3786"
             ],
             [
              0.5555555555555556,
              "#d8576b"
             ],
             [
              0.6666666666666666,
              "#ed7953"
             ],
             [
              0.7777777777777778,
              "#fb9f3a"
             ],
             [
              0.8888888888888888,
              "#fdca26"
             ],
             [
              1,
              "#f0f921"
             ]
            ],
            "type": "heatmap"
           }
          ],
          "heatmapgl": [
           {
            "colorbar": {
             "outlinewidth": 0,
             "ticks": ""
            },
            "colorscale": [
             [
              0,
              "#0d0887"
             ],
             [
              0.1111111111111111,
              "#46039f"
             ],
             [
              0.2222222222222222,
              "#7201a8"
             ],
             [
              0.3333333333333333,
              "#9c179e"
             ],
             [
              0.4444444444444444,
              "#bd3786"
             ],
             [
              0.5555555555555556,
              "#d8576b"
             ],
             [
              0.6666666666666666,
              "#ed7953"
             ],
             [
              0.7777777777777778,
              "#fb9f3a"
             ],
             [
              0.8888888888888888,
              "#fdca26"
             ],
             [
              1,
              "#f0f921"
             ]
            ],
            "type": "heatmapgl"
           }
          ],
          "histogram": [
           {
            "marker": {
             "colorbar": {
              "outlinewidth": 0,
              "ticks": ""
             }
            },
            "type": "histogram"
           }
          ],
          "histogram2d": [
           {
            "colorbar": {
             "outlinewidth": 0,
             "ticks": ""
            },
            "colorscale": [
             [
              0,
              "#0d0887"
             ],
             [
              0.1111111111111111,
              "#46039f"
             ],
             [
              0.2222222222222222,
              "#7201a8"
             ],
             [
              0.3333333333333333,
              "#9c179e"
             ],
             [
              0.4444444444444444,
              "#bd3786"
             ],
             [
              0.5555555555555556,
              "#d8576b"
             ],
             [
              0.6666666666666666,
              "#ed7953"
             ],
             [
              0.7777777777777778,
              "#fb9f3a"
             ],
             [
              0.8888888888888888,
              "#fdca26"
             ],
             [
              1,
              "#f0f921"
             ]
            ],
            "type": "histogram2d"
           }
          ],
          "histogram2dcontour": [
           {
            "colorbar": {
             "outlinewidth": 0,
             "ticks": ""
            },
            "colorscale": [
             [
              0,
              "#0d0887"
             ],
             [
              0.1111111111111111,
              "#46039f"
             ],
             [
              0.2222222222222222,
              "#7201a8"
             ],
             [
              0.3333333333333333,
              "#9c179e"
             ],
             [
              0.4444444444444444,
              "#bd3786"
             ],
             [
              0.5555555555555556,
              "#d8576b"
             ],
             [
              0.6666666666666666,
              "#ed7953"
             ],
             [
              0.7777777777777778,
              "#fb9f3a"
             ],
             [
              0.8888888888888888,
              "#fdca26"
             ],
             [
              1,
              "#f0f921"
             ]
            ],
            "type": "histogram2dcontour"
           }
          ],
          "mesh3d": [
           {
            "colorbar": {
             "outlinewidth": 0,
             "ticks": ""
            },
            "type": "mesh3d"
           }
          ],
          "parcoords": [
           {
            "line": {
             "colorbar": {
              "outlinewidth": 0,
              "ticks": ""
             }
            },
            "type": "parcoords"
           }
          ],
          "scatter": [
           {
            "marker": {
             "colorbar": {
              "outlinewidth": 0,
              "ticks": ""
             }
            },
            "type": "scatter"
           }
          ],
          "scatter3d": [
           {
            "line": {
             "colorbar": {
              "outlinewidth": 0,
              "ticks": ""
             }
            },
            "marker": {
             "colorbar": {
              "outlinewidth": 0,
              "ticks": ""
             }
            },
            "type": "scatter3d"
           }
          ],
          "scattercarpet": [
           {
            "marker": {
             "colorbar": {
              "outlinewidth": 0,
              "ticks": ""
             }
            },
            "type": "scattercarpet"
           }
          ],
          "scattergeo": [
           {
            "marker": {
             "colorbar": {
              "outlinewidth": 0,
              "ticks": ""
             }
            },
            "type": "scattergeo"
           }
          ],
          "scattergl": [
           {
            "marker": {
             "colorbar": {
              "outlinewidth": 0,
              "ticks": ""
             }
            },
            "type": "scattergl"
           }
          ],
          "scattermapbox": [
           {
            "marker": {
             "colorbar": {
              "outlinewidth": 0,
              "ticks": ""
             }
            },
            "type": "scattermapbox"
           }
          ],
          "scatterpolar": [
           {
            "marker": {
             "colorbar": {
              "outlinewidth": 0,
              "ticks": ""
             }
            },
            "type": "scatterpolar"
           }
          ],
          "scatterpolargl": [
           {
            "marker": {
             "colorbar": {
              "outlinewidth": 0,
              "ticks": ""
             }
            },
            "type": "scatterpolargl"
           }
          ],
          "scatterternary": [
           {
            "marker": {
             "colorbar": {
              "outlinewidth": 0,
              "ticks": ""
             }
            },
            "type": "scatterternary"
           }
          ],
          "surface": [
           {
            "colorbar": {
             "outlinewidth": 0,
             "ticks": ""
            },
            "colorscale": [
             [
              0,
              "#0d0887"
             ],
             [
              0.1111111111111111,
              "#46039f"
             ],
             [
              0.2222222222222222,
              "#7201a8"
             ],
             [
              0.3333333333333333,
              "#9c179e"
             ],
             [
              0.4444444444444444,
              "#bd3786"
             ],
             [
              0.5555555555555556,
              "#d8576b"
             ],
             [
              0.6666666666666666,
              "#ed7953"
             ],
             [
              0.7777777777777778,
              "#fb9f3a"
             ],
             [
              0.8888888888888888,
              "#fdca26"
             ],
             [
              1,
              "#f0f921"
             ]
            ],
            "type": "surface"
           }
          ],
          "table": [
           {
            "cells": {
             "fill": {
              "color": "#EBF0F8"
             },
             "line": {
              "color": "white"
             }
            },
            "header": {
             "fill": {
              "color": "#C8D4E3"
             },
             "line": {
              "color": "white"
             }
            },
            "type": "table"
           }
          ]
         },
         "layout": {
          "annotationdefaults": {
           "arrowcolor": "#2a3f5f",
           "arrowhead": 0,
           "arrowwidth": 1
          },
          "colorscale": {
           "diverging": [
            [
             0,
             "#8e0152"
            ],
            [
             0.1,
             "#c51b7d"
            ],
            [
             0.2,
             "#de77ae"
            ],
            [
             0.3,
             "#f1b6da"
            ],
            [
             0.4,
             "#fde0ef"
            ],
            [
             0.5,
             "#f7f7f7"
            ],
            [
             0.6,
             "#e6f5d0"
            ],
            [
             0.7,
             "#b8e186"
            ],
            [
             0.8,
             "#7fbc41"
            ],
            [
             0.9,
             "#4d9221"
            ],
            [
             1,
             "#276419"
            ]
           ],
           "sequential": [
            [
             0,
             "#0d0887"
            ],
            [
             0.1111111111111111,
             "#46039f"
            ],
            [
             0.2222222222222222,
             "#7201a8"
            ],
            [
             0.3333333333333333,
             "#9c179e"
            ],
            [
             0.4444444444444444,
             "#bd3786"
            ],
            [
             0.5555555555555556,
             "#d8576b"
            ],
            [
             0.6666666666666666,
             "#ed7953"
            ],
            [
             0.7777777777777778,
             "#fb9f3a"
            ],
            [
             0.8888888888888888,
             "#fdca26"
            ],
            [
             1,
             "#f0f921"
            ]
           ],
           "sequentialminus": [
            [
             0,
             "#0d0887"
            ],
            [
             0.1111111111111111,
             "#46039f"
            ],
            [
             0.2222222222222222,
             "#7201a8"
            ],
            [
             0.3333333333333333,
             "#9c179e"
            ],
            [
             0.4444444444444444,
             "#bd3786"
            ],
            [
             0.5555555555555556,
             "#d8576b"
            ],
            [
             0.6666666666666666,
             "#ed7953"
            ],
            [
             0.7777777777777778,
             "#fb9f3a"
            ],
            [
             0.8888888888888888,
             "#fdca26"
            ],
            [
             1,
             "#f0f921"
            ]
           ]
          },
          "colorway": [
           "#636efa",
           "#EF553B",
           "#00cc96",
           "#ab63fa",
           "#FFA15A",
           "#19d3f3",
           "#FF6692",
           "#B6E880",
           "#FF97FF",
           "#FECB52"
          ],
          "font": {
           "color": "#2a3f5f"
          },
          "geo": {
           "bgcolor": "white",
           "lakecolor": "white",
           "landcolor": "#E5ECF6",
           "showlakes": true,
           "showland": true,
           "subunitcolor": "white"
          },
          "hoverlabel": {
           "align": "left"
          },
          "hovermode": "closest",
          "mapbox": {
           "style": "light"
          },
          "paper_bgcolor": "white",
          "plot_bgcolor": "#E5ECF6",
          "polar": {
           "angularaxis": {
            "gridcolor": "white",
            "linecolor": "white",
            "ticks": ""
           },
           "bgcolor": "#E5ECF6",
           "radialaxis": {
            "gridcolor": "white",
            "linecolor": "white",
            "ticks": ""
           }
          },
          "scene": {
           "xaxis": {
            "backgroundcolor": "#E5ECF6",
            "gridcolor": "white",
            "gridwidth": 2,
            "linecolor": "white",
            "showbackground": true,
            "ticks": "",
            "zerolinecolor": "white"
           },
           "yaxis": {
            "backgroundcolor": "#E5ECF6",
            "gridcolor": "white",
            "gridwidth": 2,
            "linecolor": "white",
            "showbackground": true,
            "ticks": "",
            "zerolinecolor": "white"
           },
           "zaxis": {
            "backgroundcolor": "#E5ECF6",
            "gridcolor": "white",
            "gridwidth": 2,
            "linecolor": "white",
            "showbackground": true,
            "ticks": "",
            "zerolinecolor": "white"
           }
          },
          "shapedefaults": {
           "line": {
            "color": "#2a3f5f"
           }
          },
          "ternary": {
           "aaxis": {
            "gridcolor": "white",
            "linecolor": "white",
            "ticks": ""
           },
           "baxis": {
            "gridcolor": "white",
            "linecolor": "white",
            "ticks": ""
           },
           "bgcolor": "#E5ECF6",
           "caxis": {
            "gridcolor": "white",
            "linecolor": "white",
            "ticks": ""
           }
          },
          "title": {
           "x": 0.05
          },
          "xaxis": {
           "automargin": true,
           "gridcolor": "white",
           "linecolor": "white",
           "ticks": "",
           "zerolinecolor": "white",
           "zerolinewidth": 2
          },
          "yaxis": {
           "automargin": true,
           "gridcolor": "white",
           "linecolor": "white",
           "ticks": "",
           "zerolinecolor": "white",
           "zerolinewidth": 2
          }
         }
        }
       }
      },
      "text/html": [
       "<div>\n",
       "        \n",
       "        \n",
       "            <div id=\"a8746b26-8138-4d9b-a684-1a9095c5d143\" class=\"plotly-graph-div\" style=\"height:600px; width:100%;\"></div>\n",
       "            <script type=\"text/javascript\">\n",
       "                require([\"plotly\"], function(Plotly) {\n",
       "                    window.PLOTLYENV=window.PLOTLYENV || {};\n",
       "                    \n",
       "                if (document.getElementById(\"a8746b26-8138-4d9b-a684-1a9095c5d143\")) {\n",
       "                    Plotly.newPlot(\n",
       "                        'a8746b26-8138-4d9b-a684-1a9095c5d143',\n",
       "                        [{\"hoverlabel\": {\"namelength\": 0}, \"hovertemplate\": \"label=ALL<br>x=%{x}<br>y=%{y}<br>z=%{z}\", \"legendgroup\": \"label=ALL\", \"marker\": {\"color\": \"#636efa\", \"symbol\": \"circle\"}, \"mode\": \"markers\", \"name\": \"label=ALL\", \"scene\": \"scene\", \"showlegend\": true, \"type\": \"scatter3d\", \"x\": [1.0250358927189773, 0.7305373202334362, 0.8940865980230104, 0.355461077382918, 0.9412144016483036, 1.2804112762641378, 0.81185971044631, 0.5207145383695624, 0.35260621163368616, 1.0398878832171277, 0.7799525727731346, 0.5555676670784586, 0.8468390406250116, 0.3658964340058546, 0.6240171085264857, 1.1168893984099209, 0.6389083110522836, 0.7961709894883059, 1.1674280790777665, 0.9484984270344173, 0.6953485611345362, 1.106428520200772, 0.7816650990433048, 0.6361676993866412, 0.5497586023420373, 1.6404899282515026, 0.6981133174688663, 0.9509647799528257, 1.623336469996835, 0.7914508561704963, 0.49738326705520514, 0.3193368957729939, 1.318323740846035, 0.38064144757375956, 0.855548646533859, 0.6423108853320163, 0.29895911635306555, 1.013083852677288], \"y\": [-0.007033742339687408, -0.3624002062778544, -0.18970959719561953, -0.13654250488675537, 0.06997234052077514, 0.2592544674890695, -0.19483082902289084, -0.024146107019883428, 0.11497027456023681, -0.5225948006521601, -0.6442763143966342, -0.3495609049859667, -0.292102304186231, -0.1612119991201538, -0.1038416374826286, -0.21083689939407474, -0.4032224918555612, -0.054776518428212954, 0.11196073099721951, -0.500047196171811, -0.2675455731039348, -0.16331216002168822, 0.3681045347235616, -0.16686736062265498, 0.33614477180914776, -0.0503486512206545, -0.47606195565346326, -0.3580319686257111, 0.17817581857325232, -0.26035619685382005, -0.5607309873184412, -0.31142942789642425, -0.2214036479130932, 0.04957590455231827, 0.19878863797177995, 0.08433831862284721, 0.28698182417430046, 0.16776825337210455], \"z\": [0.0579591357315231, -0.434811004238527, -0.1460931489349005, -0.43151059341971876, 0.3324291665283811, -0.4399088820833757, 0.10063446034277126, 0.5627420213964902, 0.09637928115697594, -0.48280111336494164, 0.42790127911220677, 0.3148750426560438, -0.3662444968333928, -0.18874127870609705, 0.17880389298601665, 0.3811909605946432, 0.03229724503101158, -0.12946774651824955, -0.081280002773116, 0.1561547935154934, 0.0961442560576297, -0.205990326384593, -0.5072631407998234, 0.026388871832179986, -0.2101773730486334, 0.05666893337767779, -0.4400914074504399, 0.30761232994117843, -0.11961861433141656, -0.08181358088810059, 0.32777029682938896, -0.12475308122540583, 0.07236178489297931, -0.046243326645837655, 0.28726084826101156, 0.2339587561784764, -0.32806526638523575, -0.24341003964355756]}, {\"hoverlabel\": {\"namelength\": 0}, \"hovertemplate\": \"label=AML<br>x=%{x}<br>y=%{y}<br>z=%{z}\", \"legendgroup\": \"label=AML\", \"marker\": {\"color\": \"#EF553B\", \"symbol\": \"circle\"}, \"mode\": \"markers\", \"name\": \"label=AML\", \"scene\": \"scene\", \"showlegend\": true, \"type\": \"scatter3d\", \"x\": [-0.36001927266344336, 0.01826216714675174, -0.05277832412104455, 0.031578043982354864, -0.409742087557765, -0.3384478161500707, -0.6687603010819533, -0.14816031337261876, -0.051629357055639556, -0.3421146869193885, -0.1907642729700576, -0.026578716632354348, -0.27552180492308126], \"y\": [0.935084337138956, 0.9043668433317363, 0.9204889589447008, 0.8691889763540375, 0.8987516019304488, 1.1185406953001071, 1.1397867814483207, 0.813815140073728, 0.6193842633706389, 1.098676360231825, 1.0189225808877729, 0.9134780535219559, 0.8193013386695376], \"z\": [0.38975810323842414, 0.5692168205755194, 0.991559913404775, 0.7231132343499068, 0.12702787851811317, 0.3758686598846503, 0.18413304577853007, 0.4854844391514151, 1.0450952546227061, 0.4980893858424383, 0.37276795176231786, 0.5946883435534965, 0.49752202386644206]}, {\"hoverlabel\": {\"namelength\": 0}, \"hovertemplate\": \"label=Breast Cancer<br>x=%{x}<br>y=%{y}<br>z=%{z}\", \"legendgroup\": \"label=Breast Cancer\", \"marker\": {\"color\": \"#00cc96\", \"symbol\": \"circle\"}, \"mode\": \"markers\", \"name\": \"label=Breast Cancer\", \"scene\": \"scene\", \"showlegend\": true, \"type\": \"scatter3d\", \"x\": [-0.6765768961587191, -0.44601887002752333, -0.40288617077633604, -0.4515983036691709, -0.525485586277968, -0.46321562166086283, -0.5760405081597493, -0.7486154447261041, -0.8746195907019539, -0.3533607574211385, -0.6002881784849985, -0.9174646711966986, -0.87610472534164, -0.40863856272870025, -1.0190679795153867, -0.35485097537011473, -0.8637164349319876, -0.7858657321477084, -0.47082591553183334, -0.35640955186731016, -0.8274219050026096, -0.4823615770527005, -0.7410096600304477, -0.3676134465447166, -0.3689023119700988, -0.4325023063557831, -0.6488114173890952, -0.6379590771044226, -1.286081006458007, -1.0150219134872684, -0.6569473485320512, -0.69909422518066, -0.6698966477306776, -0.49792778106026725, -1.1291398944610398, -0.2871060029590527, -0.3330576856198005, -0.5175428554809657, -0.4371614678597389], \"y\": [-0.2482927284864684, 0.28008399409495877, -1.0160485457342099, -0.23481945339210536, -0.06538547403283641, -0.16019578400747464, 0.17353281224896513, -0.13531770550160002, -0.15053031980692244, -0.17925540930071263, -0.6666743802574665, -0.289808769747507, -0.40070542375750684, -0.5602433064366223, -0.01950972242188719, -0.5394311865832467, -0.6010684128369957, -0.3650264103419901, -0.40404470978821416, -0.3773091709725506, 0.16443540954065158, -0.42379818623230003, -0.7137981686847139, -0.664073302013312, -0.36544254046718366, -0.22609212602245446, -0.49866476827948936, -0.7754226038083475, -0.47980201720972643, -0.6768848623026155, -0.35387064259279544, -0.33861988653379493, -0.6785340492570187, -0.30318701052225144, -0.27639943525721733, -0.13371330071478404, -0.31619910065071594, -0.6321728647979648, -0.7744924883407034], \"z\": [-0.04368059380789283, -0.18343041892789166, 0.38270830777285436, -0.20482288642417426, 0.10191112221049851, 0.15524310596989277, -0.18347141973041747, 0.32356979414773707, -0.05776383332364951, -0.05413262972346906, -0.36392052619263004, -0.04640321617100549, 0.0779633857710923, 0.0990280168859083, 0.08448959640152134, 0.6534378593559417, -0.08402712604596609, 0.43822779556950403, 0.29517693474698137, -0.35869024084321555, 0.2038805830643068, 0.18042956489097214, -0.2893236789205488, -0.19711646489079182, 0.3958399418656553, -0.2211382802657366, 0.10540067991128722, -0.034895164880435425, -0.13615192924315428, -0.07756085483547452, 0.07090208381209825, 0.1001009138456171, -0.19025950332826003, -0.0020639595931060636, 0.3839717158592177, 0.20368059838257097, -0.039378106534846066, -0.01253757456915601, -0.002032202878125441]}, {\"hoverlabel\": {\"namelength\": 0}, \"hovertemplate\": \"label=Colon Cancer<br>x=%{x}<br>y=%{y}<br>z=%{z}\", \"legendgroup\": \"label=Colon Cancer\", \"marker\": {\"color\": \"#ab63fa\", \"symbol\": \"circle\"}, \"mode\": \"markers\", \"name\": \"label=Colon Cancer\", \"scene\": \"scene\", \"showlegend\": true, \"type\": \"scatter3d\", \"x\": [-0.31451152478810956, -0.4477693734404703, -0.2725147852651734, -0.19411470381694612, -0.025448157401742836, -0.5831385265804804, -0.3165607372289071, -0.3909131969147118, -0.47065100644144836, -0.5537868629295485], \"y\": [0.6489109172718769, 0.4800997365064103, 0.8322773508209524, 0.6600705689139389, 0.8668440276190535, 0.840569975363739, 0.8310115465683123, 0.648717091936832, 0.8251626875913916, 0.4905183226922908], \"z\": [-0.8747185455870778, -0.9324725130126342, -0.6510869870947937, -0.7255600438997033, -0.6816290192932113, -0.7615341844552914, -0.6666175853051289, -0.6227229120751091, -0.642847958125431, -0.8095456277808083]}],\n",
       "                        {\"height\": 600, \"legend\": {\"tracegroupgap\": 0}, \"margin\": {\"t\": 60}, \"scene\": {\"domain\": {\"x\": [0.0, 0.98], \"y\": [0.0, 1.0]}, \"xaxis\": {\"title\": {\"text\": \"x\"}}, \"yaxis\": {\"title\": {\"text\": \"y\"}}, \"zaxis\": {\"title\": {\"text\": \"z\"}}}, \"template\": {\"data\": {\"bar\": [{\"error_x\": {\"color\": \"#2a3f5f\"}, \"error_y\": {\"color\": \"#2a3f5f\"}, \"marker\": {\"line\": {\"color\": \"#E5ECF6\", \"width\": 0.5}}, \"type\": \"bar\"}], \"barpolar\": [{\"marker\": {\"line\": {\"color\": \"#E5ECF6\", \"width\": 0.5}}, \"type\": \"barpolar\"}], \"carpet\": [{\"aaxis\": {\"endlinecolor\": \"#2a3f5f\", \"gridcolor\": \"white\", \"linecolor\": \"white\", \"minorgridcolor\": \"white\", \"startlinecolor\": \"#2a3f5f\"}, \"baxis\": {\"endlinecolor\": \"#2a3f5f\", \"gridcolor\": \"white\", \"linecolor\": \"white\", \"minorgridcolor\": \"white\", \"startlinecolor\": \"#2a3f5f\"}, \"type\": \"carpet\"}], \"choropleth\": [{\"colorbar\": {\"outlinewidth\": 0, \"ticks\": \"\"}, \"type\": \"choropleth\"}], \"contour\": [{\"colorbar\": {\"outlinewidth\": 0, \"ticks\": \"\"}, \"colorscale\": [[0.0, \"#0d0887\"], [0.1111111111111111, \"#46039f\"], [0.2222222222222222, \"#7201a8\"], [0.3333333333333333, \"#9c179e\"], [0.4444444444444444, \"#bd3786\"], [0.5555555555555556, \"#d8576b\"], [0.6666666666666666, \"#ed7953\"], [0.7777777777777778, \"#fb9f3a\"], [0.8888888888888888, \"#fdca26\"], [1.0, \"#f0f921\"]], \"type\": \"contour\"}], \"contourcarpet\": [{\"colorbar\": {\"outlinewidth\": 0, \"ticks\": \"\"}, \"type\": \"contourcarpet\"}], \"heatmap\": [{\"colorbar\": {\"outlinewidth\": 0, \"ticks\": \"\"}, \"colorscale\": [[0.0, \"#0d0887\"], [0.1111111111111111, \"#46039f\"], [0.2222222222222222, \"#7201a8\"], [0.3333333333333333, \"#9c179e\"], [0.4444444444444444, \"#bd3786\"], [0.5555555555555556, \"#d8576b\"], [0.6666666666666666, \"#ed7953\"], [0.7777777777777778, \"#fb9f3a\"], [0.8888888888888888, \"#fdca26\"], [1.0, \"#f0f921\"]], \"type\": \"heatmap\"}], \"heatmapgl\": [{\"colorbar\": {\"outlinewidth\": 0, \"ticks\": \"\"}, \"colorscale\": [[0.0, \"#0d0887\"], [0.1111111111111111, \"#46039f\"], [0.2222222222222222, \"#7201a8\"], [0.3333333333333333, \"#9c179e\"], [0.4444444444444444, \"#bd3786\"], [0.5555555555555556, \"#d8576b\"], [0.6666666666666666, \"#ed7953\"], [0.7777777777777778, \"#fb9f3a\"], [0.8888888888888888, \"#fdca26\"], [1.0, \"#f0f921\"]], \"type\": \"heatmapgl\"}], \"histogram\": [{\"marker\": {\"colorbar\": {\"outlinewidth\": 0, \"ticks\": \"\"}}, \"type\": \"histogram\"}], \"histogram2d\": [{\"colorbar\": {\"outlinewidth\": 0, \"ticks\": \"\"}, \"colorscale\": [[0.0, \"#0d0887\"], [0.1111111111111111, \"#46039f\"], [0.2222222222222222, \"#7201a8\"], [0.3333333333333333, \"#9c179e\"], [0.4444444444444444, \"#bd3786\"], [0.5555555555555556, \"#d8576b\"], [0.6666666666666666, \"#ed7953\"], [0.7777777777777778, \"#fb9f3a\"], [0.8888888888888888, \"#fdca26\"], [1.0, \"#f0f921\"]], \"type\": \"histogram2d\"}], \"histogram2dcontour\": [{\"colorbar\": {\"outlinewidth\": 0, \"ticks\": \"\"}, \"colorscale\": [[0.0, \"#0d0887\"], [0.1111111111111111, \"#46039f\"], [0.2222222222222222, \"#7201a8\"], [0.3333333333333333, \"#9c179e\"], [0.4444444444444444, \"#bd3786\"], [0.5555555555555556, \"#d8576b\"], [0.6666666666666666, \"#ed7953\"], [0.7777777777777778, \"#fb9f3a\"], [0.8888888888888888, \"#fdca26\"], [1.0, \"#f0f921\"]], \"type\": \"histogram2dcontour\"}], \"mesh3d\": [{\"colorbar\": {\"outlinewidth\": 0, \"ticks\": \"\"}, \"type\": \"mesh3d\"}], \"parcoords\": [{\"line\": {\"colorbar\": {\"outlinewidth\": 0, \"ticks\": \"\"}}, \"type\": \"parcoords\"}], \"scatter\": [{\"marker\": {\"colorbar\": {\"outlinewidth\": 0, \"ticks\": \"\"}}, \"type\": \"scatter\"}], \"scatter3d\": [{\"line\": {\"colorbar\": {\"outlinewidth\": 0, \"ticks\": \"\"}}, \"marker\": {\"colorbar\": {\"outlinewidth\": 0, \"ticks\": \"\"}}, \"type\": \"scatter3d\"}], \"scattercarpet\": [{\"marker\": {\"colorbar\": {\"outlinewidth\": 0, \"ticks\": \"\"}}, \"type\": \"scattercarpet\"}], \"scattergeo\": [{\"marker\": {\"colorbar\": {\"outlinewidth\": 0, \"ticks\": \"\"}}, \"type\": \"scattergeo\"}], \"scattergl\": [{\"marker\": {\"colorbar\": {\"outlinewidth\": 0, \"ticks\": \"\"}}, \"type\": \"scattergl\"}], \"scattermapbox\": [{\"marker\": {\"colorbar\": {\"outlinewidth\": 0, \"ticks\": \"\"}}, \"type\": \"scattermapbox\"}], \"scatterpolar\": [{\"marker\": {\"colorbar\": {\"outlinewidth\": 0, \"ticks\": \"\"}}, \"type\": \"scatterpolar\"}], \"scatterpolargl\": [{\"marker\": {\"colorbar\": {\"outlinewidth\": 0, \"ticks\": \"\"}}, \"type\": \"scatterpolargl\"}], \"scatterternary\": [{\"marker\": {\"colorbar\": {\"outlinewidth\": 0, \"ticks\": \"\"}}, \"type\": \"scatterternary\"}], \"surface\": [{\"colorbar\": {\"outlinewidth\": 0, \"ticks\": \"\"}, \"colorscale\": [[0.0, \"#0d0887\"], [0.1111111111111111, \"#46039f\"], [0.2222222222222222, \"#7201a8\"], [0.3333333333333333, \"#9c179e\"], [0.4444444444444444, \"#bd3786\"], [0.5555555555555556, \"#d8576b\"], [0.6666666666666666, \"#ed7953\"], [0.7777777777777778, \"#fb9f3a\"], [0.8888888888888888, \"#fdca26\"], [1.0, \"#f0f921\"]], \"type\": \"surface\"}], \"table\": [{\"cells\": {\"fill\": {\"color\": \"#EBF0F8\"}, \"line\": {\"color\": \"white\"}}, \"header\": {\"fill\": {\"color\": \"#C8D4E3\"}, \"line\": {\"color\": \"white\"}}, \"type\": \"table\"}]}, \"layout\": {\"annotationdefaults\": {\"arrowcolor\": \"#2a3f5f\", \"arrowhead\": 0, \"arrowwidth\": 1}, \"colorscale\": {\"diverging\": [[0, \"#8e0152\"], [0.1, \"#c51b7d\"], [0.2, \"#de77ae\"], [0.3, \"#f1b6da\"], [0.4, \"#fde0ef\"], [0.5, \"#f7f7f7\"], [0.6, \"#e6f5d0\"], [0.7, \"#b8e186\"], [0.8, \"#7fbc41\"], [0.9, \"#4d9221\"], [1, \"#276419\"]], \"sequential\": [[0.0, \"#0d0887\"], [0.1111111111111111, \"#46039f\"], [0.2222222222222222, \"#7201a8\"], [0.3333333333333333, \"#9c179e\"], [0.4444444444444444, \"#bd3786\"], [0.5555555555555556, \"#d8576b\"], [0.6666666666666666, \"#ed7953\"], [0.7777777777777778, \"#fb9f3a\"], [0.8888888888888888, \"#fdca26\"], [1.0, \"#f0f921\"]], \"sequentialminus\": [[0.0, \"#0d0887\"], [0.1111111111111111, \"#46039f\"], [0.2222222222222222, \"#7201a8\"], [0.3333333333333333, \"#9c179e\"], [0.4444444444444444, \"#bd3786\"], [0.5555555555555556, \"#d8576b\"], [0.6666666666666666, \"#ed7953\"], [0.7777777777777778, \"#fb9f3a\"], [0.8888888888888888, \"#fdca26\"], [1.0, \"#f0f921\"]]}, \"colorway\": [\"#636efa\", \"#EF553B\", \"#00cc96\", \"#ab63fa\", \"#FFA15A\", \"#19d3f3\", \"#FF6692\", \"#B6E880\", \"#FF97FF\", \"#FECB52\"], \"font\": {\"color\": \"#2a3f5f\"}, \"geo\": {\"bgcolor\": \"white\", \"lakecolor\": \"white\", \"landcolor\": \"#E5ECF6\", \"showlakes\": true, \"showland\": true, \"subunitcolor\": \"white\"}, \"hoverlabel\": {\"align\": \"left\"}, \"hovermode\": \"closest\", \"mapbox\": {\"style\": \"light\"}, \"paper_bgcolor\": \"white\", \"plot_bgcolor\": \"#E5ECF6\", \"polar\": {\"angularaxis\": {\"gridcolor\": \"white\", \"linecolor\": \"white\", \"ticks\": \"\"}, \"bgcolor\": \"#E5ECF6\", \"radialaxis\": {\"gridcolor\": \"white\", \"linecolor\": \"white\", \"ticks\": \"\"}}, \"scene\": {\"xaxis\": {\"backgroundcolor\": \"#E5ECF6\", \"gridcolor\": \"white\", \"gridwidth\": 2, \"linecolor\": \"white\", \"showbackground\": true, \"ticks\": \"\", \"zerolinecolor\": \"white\"}, \"yaxis\": {\"backgroundcolor\": \"#E5ECF6\", \"gridcolor\": \"white\", \"gridwidth\": 2, \"linecolor\": \"white\", \"showbackground\": true, \"ticks\": \"\", \"zerolinecolor\": \"white\"}, \"zaxis\": {\"backgroundcolor\": \"#E5ECF6\", \"gridcolor\": \"white\", \"gridwidth\": 2, \"linecolor\": \"white\", \"showbackground\": true, \"ticks\": \"\", \"zerolinecolor\": \"white\"}}, \"shapedefaults\": {\"line\": {\"color\": \"#2a3f5f\"}}, \"ternary\": {\"aaxis\": {\"gridcolor\": \"white\", \"linecolor\": \"white\", \"ticks\": \"\"}, \"baxis\": {\"gridcolor\": \"white\", \"linecolor\": \"white\", \"ticks\": \"\"}, \"bgcolor\": \"#E5ECF6\", \"caxis\": {\"gridcolor\": \"white\", \"linecolor\": \"white\", \"ticks\": \"\"}}, \"title\": {\"x\": 0.05}, \"xaxis\": {\"automargin\": true, \"gridcolor\": \"white\", \"linecolor\": \"white\", \"ticks\": \"\", \"zerolinecolor\": \"white\", \"zerolinewidth\": 2}, \"yaxis\": {\"automargin\": true, \"gridcolor\": \"white\", \"linecolor\": \"white\", \"ticks\": \"\", \"zerolinecolor\": \"white\", \"zerolinewidth\": 2}}}},\n",
       "                        {\"responsive\": true}\n",
       "                    ).then(function(){\n",
       "                            \n",
       "var gd = document.getElementById('a8746b26-8138-4d9b-a684-1a9095c5d143');\n",
       "var x = new MutationObserver(function (mutations, observer) {{\n",
       "        var display = window.getComputedStyle(gd).display;\n",
       "        if (!display || display === 'none') {{\n",
       "            console.log([gd, 'removed!']);\n",
       "            Plotly.purge(gd);\n",
       "            observer.disconnect();\n",
       "        }}\n",
       "}});\n",
       "\n",
       "// Listen for the removal of the full notebook cells\n",
       "var notebookContainer = gd.closest('#notebook-container');\n",
       "if (notebookContainer) {{\n",
       "    x.observe(notebookContainer, {childList: true});\n",
       "}}\n",
       "\n",
       "// Listen for the clearing of the current output cell\n",
       "var outputEl = gd.closest('.output');\n",
       "if (outputEl) {{\n",
       "    x.observe(outputEl, {childList: true});\n",
       "}}\n",
       "\n",
       "                        })\n",
       "                };\n",
       "                });\n",
       "            </script>\n",
       "        </div>"
      ]
     },
     "metadata": {},
     "output_type": "display_data"
    }
   ],
   "source": [
    "svd = TruncatedSVD(3)\n",
    "data_transformed = svd.fit_transform(df)\n",
    "\n",
    "df_transformed = pd.DataFrame(data_transformed)\n",
    "final_dataframe = np.hstack((df_transformed, class_label))\n",
    "\n",
    "final_dataframe = pd.DataFrame(final_dataframe)\n",
    "\n",
    "# Defining the column names\n",
    "final_dataframe.columns = ['x', 'y', 'z', 'label']\n",
    "\n",
    "\n",
    "# Changing Complex values to real values\n",
    "A = [x.real for x in final_dataframe.x]\n",
    "B = [x.real for x in final_dataframe.y]\n",
    "C = [x.real for x in final_dataframe.z]\n",
    "\n",
    "# Adding Values to dictionary \n",
    "dictFrame = {'X': A, 'Y': B, 'Z':C }\n",
    "\n",
    "# Converting dictionary to a dataframe\n",
    "dFrame = pd.DataFrame(dictFrame)\n",
    "\n",
    "# Appending label column to the dataframe\n",
    "changed_dataFrame = horizontalStack(dFrame, class_label)\n",
    "\n",
    "# Changing the array to dataframe and changing the column labels\n",
    "changed_dataFrame = pd.DataFrame(changed_dataFrame)\n",
    "changed_dataFrame.columns = ['x', 'y','z','label']\n",
    "\n",
    "plot3D(changed_dataFrame)\n"
   ]
  },
  {
   "cell_type": "markdown",
   "metadata": {},
   "source": [
    "## T-SNE"
   ]
  },
  {
   "cell_type": "code",
   "execution_count": 24,
   "metadata": {
    "ExecuteTime": {
     "end_time": "2019-09-25T23:16:07.042758Z",
     "start_time": "2019-09-25T23:16:05.892312Z"
    }
   },
   "outputs": [
    {
     "data": {
      "application/vnd.plotly.v1+json": {
       "config": {
        "plotlyServerURL": "https://plot.ly"
       },
       "data": [
        {
         "hoverlabel": {
          "namelength": 0
         },
         "hovertemplate": "label=ALL<br>x=%{x}<br>y=%{y}<br>z=%{z}",
         "legendgroup": "label=ALL",
         "marker": {
          "color": "#636efa",
          "symbol": "circle"
         },
         "mode": "markers",
         "name": "label=ALL",
         "scene": "scene",
         "showlegend": true,
         "type": "scatter3d",
         "x": [
          190.0162811279297,
          -114.06036376953125,
          -68.77011108398438,
          51.17961502075195,
          -118.31633758544922,
          -160.8885498046875,
          -11.891715049743652,
          -113.9288558959961,
          -19.64314079284668,
          -8.67321491241455,
          -89.44256591796875,
          -87.68280029296875,
          -64.59178161621094,
          3.3967583179473877,
          -12.914433479309082,
          -83.3215103149414,
          -60.294891357421875,
          -123.80964660644531,
          -91.06685638427734,
          -86.9251708984375,
          -49.183021545410156,
          -13.557903289794922,
          92.06593322753906,
          -20.242141723632812,
          31.04779052734375,
          34.70252227783203,
          -120.33649444580078,
          -51.7178955078125,
          -59.991004943847656,
          11.305156707763672,
          -133.10739135742188,
          -10.19031810760498,
          -111.29865264892578,
          -51.84303665161133,
          -147.38926696777344,
          -66.54376220703125,
          69.47930908203125,
          68.36719512939453
         ],
         "y": [
          -70.80976867675781,
          -10.1897611618042,
          35.06536102294922,
          141.77984619140625,
          96.23217010498047,
          7.400527477264404,
          32.97263717651367,
          130.92855834960938,
          17.808210372924805,
          183.05911254882812,
          177.87838745117188,
          131.195068359375,
          14.095775604248047,
          173.08287048339844,
          127.13475799560547,
          63.24134063720703,
          149.23036193847656,
          29.807344436645508,
          3.3558928966522217,
          90.0935287475586,
          81.7037582397461,
          117.5672378540039,
          125.4508056640625,
          85.3564453125,
          46.36317443847656,
          65.06865692138672,
          50.285892486572266,
          107.92525482177734,
          51.423118591308594,
          116.91883850097656,
          130.21951293945312,
          134.4868927001953,
          18.32171630859375,
          -22.25308609008789,
          76.68368530273438,
          122.91958618164062,
          68.21046447753906,
          77.43238830566406
         ],
         "z": [
          29.57680892944336,
          -114.97965240478516,
          -84.51567840576172,
          -92.92283630371094,
          47.36642074584961,
          9.558042526245117,
          -109.09960174560547,
          -14.743058204650879,
          -36.262508392333984,
          -3.9270594120025635,
          19.479448318481445,
          -124.79424285888672,
          -149.77978515625,
          -76.15922546386719,
          -170.8879852294922,
          -11.664790153503418,
          -70.09722137451172,
          -58.45988464355469,
          1.137850284576416,
          -70.44493103027344,
          -130.62794494628906,
          25.42743682861328,
          -35.49772262573242,
          -76.78853607177734,
          -58.51203536987305,
          -165.27491760253906,
          -134.21176147460938,
          -23.09961700439453,
          46.076881408691406,
          -35.704837799072266,
          -80.49658203125,
          -113.1137466430664,
          60.88144302368164,
          -60.24446105957031,
          -0.6391453742980957,
          67.81033325195312,
          -23.907520294189453,
          -99.33284759521484
         ]
        },
        {
         "hoverlabel": {
          "namelength": 0
         },
         "hovertemplate": "label=AML<br>x=%{x}<br>y=%{y}<br>z=%{z}",
         "legendgroup": "label=AML",
         "marker": {
          "color": "#EF553B",
          "symbol": "circle"
         },
         "mode": "markers",
         "name": "label=AML",
         "scene": "scene",
         "showlegend": true,
         "type": "scatter3d",
         "x": [
          50.31196594238281,
          22.09849739074707,
          101.57278442382812,
          -11.19433879852295,
          143.4510955810547,
          176.27804565429688,
          36.33646774291992,
          38.68690872192383,
          78.86011505126953,
          2.3830316066741943,
          43.955997467041016,
          -13.052653312683105,
          -8.932648658752441
         ],
         "y": [
          -154.54754638671875,
          -67.8242416381836,
          -145.82852172851562,
          -146.74490356445312,
          -10.926968574523926,
          -44.634910583496094,
          -190.94041442871094,
          -68.13724517822266,
          -93.1421127319336,
          -124.64887237548828,
          -128.59365844726562,
          -89.46422576904297,
          -172.97085571289062
         ],
         "z": [
          -25.554840087890625,
          -47.7756462097168,
          -70.72049713134766,
          -95.3587646484375,
          -16.915664672851562,
          -56.79347229003906,
          -74.11786651611328,
          -108.61837005615234,
          -63.77057647705078,
          -33.976619720458984,
          -100.06440734863281,
          -83.40092468261719,
          16.802040100097656
         ]
        },
        {
         "hoverlabel": {
          "namelength": 0
         },
         "hovertemplate": "label=Breast Cancer<br>x=%{x}<br>y=%{y}<br>z=%{z}",
         "legendgroup": "label=Breast Cancer",
         "marker": {
          "color": "#00cc96",
          "symbol": "circle"
         },
         "mode": "markers",
         "name": "label=Breast Cancer",
         "scene": "scene",
         "showlegend": true,
         "type": "scatter3d",
         "x": [
          -18.47039222717285,
          -65.49637603759766,
          109.22653198242188,
          116.6073226928711,
          9.558937072753906,
          -160.03390502929688,
          -81.28404998779297,
          -81.6913833618164,
          -11.505203247070312,
          121.67179107666016,
          80.42020416259766,
          -43.12261962890625,
          143.2351837158203,
          122.77576446533203,
          131.11097717285156,
          36.842533111572266,
          145.82505798339844,
          28.356231689453125,
          -24.048442840576172,
          2.764162302017212,
          41.134700775146484,
          -137.8558807373047,
          39.9535026550293,
          92.50321960449219,
          68.89240264892578,
          18.032779693603516,
          92.65764617919922,
          59.63764190673828,
          172.60321044921875,
          -49.008934020996094,
          122.57955932617188,
          7.169700622558594,
          66.03540802001953,
          20.61654281616211,
          -53.53386688232422,
          72.20110321044922,
          80.02033233642578,
          17.992145538330078,
          119.80603790283203
         ],
         "y": [
          -63.775604248046875,
          -116.96613311767578,
          91.4854965209961,
          -4.84016227722168,
          -121.08524322509766,
          37.461334228515625,
          -69.99525451660156,
          -74.19210052490234,
          -72.29194641113281,
          57.08650588989258,
          2.041579008102417,
          -21.988807678222656,
          48.06278991699219,
          -66.34046936035156,
          -87.8642349243164,
          -85.61226654052734,
          0.5184051394462585,
          141.50759887695312,
          -31.994035720825195,
          44.79338455200195,
          -74.48345184326172,
          -64.51215362548828,
          -24.413026809692383,
          3.8518824577331543,
          100.38928985595703,
          -17.993419647216797,
          -127.24109649658203,
          40.40981674194336,
          -24.905963897705078,
          20.298994064331055,
          -65.10672760009766,
          85.17462158203125,
          29.490806579589844,
          -14.70666217803955,
          -95.81957244873047,
          -94.9363021850586,
          -28.539215087890625,
          29.486906051635742,
          26.81585693359375
         ],
         "z": [
          40.10293197631836,
          12.409775733947754,
          131.76156616210938,
          47.435333251953125,
          62.213253021240234,
          106.64955139160156,
          29.595619201660156,
          100.38008117675781,
          105.69155883789062,
          35.54170608520508,
          -142.1302490234375,
          82.6707763671875,
          -60.45401382446289,
          76.88441467285156,
          -12.075089454650879,
          188.0548095703125,
          -110.48282623291016,
          103.66224670410156,
          176.41867065429688,
          81.56385040283203,
          65.71517181396484,
          -21.082059860229492,
          150.15924072265625,
          171.93988037109375,
          67.08892059326172,
          33.56795120239258,
          61.66690444946289,
          128.88128662109375,
          120.10066986083984,
          134.68968200683594,
          -115.81625366210938,
          137.8480682373047,
          69.49552917480469,
          92.27082061767578,
          155.56930541992188,
          124.54205322265625,
          96.4337387084961,
          172.92935180664062,
          117.59418487548828
         ]
        },
        {
         "hoverlabel": {
          "namelength": 0
         },
         "hovertemplate": "label=Colon Cancer<br>x=%{x}<br>y=%{y}<br>z=%{z}",
         "legendgroup": "label=Colon Cancer",
         "marker": {
          "color": "#ab63fa",
          "symbol": "circle"
         },
         "mode": "markers",
         "name": "label=Colon Cancer",
         "scene": "scene",
         "showlegend": true,
         "type": "scatter3d",
         "x": [
          -76.93976593017578,
          19.84621810913086,
          -17.866519927978516,
          69.58836364746094,
          61.445072174072266,
          -90.21035766601562,
          -60.64925003051758,
          -94.28898620605469,
          71.68961334228516,
          -14.372291564941406
         ],
         "y": [
          -94.70822143554688,
          40.288177490234375,
          -79.07099914550781,
          -21.212566375732422,
          -82.3194351196289,
          -118.78946685791016,
          -169.7555389404297,
          -156.7257537841797,
          -13.255440711975098,
          -169.18814086914062
         ],
         "z": [
          -123.24368286132812,
          12.295478820800781,
          -157.95733642578125,
          -6.1001057624816895,
          2.7053420543670654,
          -63.489891052246094,
          -38.123619079589844,
          64.34980773925781,
          -63.45684814453125,
          106.71775817871094
         ]
        }
       ],
       "layout": {
        "height": 600,
        "legend": {
         "tracegroupgap": 0
        },
        "margin": {
         "t": 60
        },
        "scene": {
         "domain": {
          "x": [
           0,
           0.98
          ],
          "y": [
           0,
           1
          ]
         },
         "xaxis": {
          "title": {
           "text": "x"
          }
         },
         "yaxis": {
          "title": {
           "text": "y"
          }
         },
         "zaxis": {
          "title": {
           "text": "z"
          }
         }
        },
        "template": {
         "data": {
          "bar": [
           {
            "error_x": {
             "color": "#2a3f5f"
            },
            "error_y": {
             "color": "#2a3f5f"
            },
            "marker": {
             "line": {
              "color": "#E5ECF6",
              "width": 0.5
             }
            },
            "type": "bar"
           }
          ],
          "barpolar": [
           {
            "marker": {
             "line": {
              "color": "#E5ECF6",
              "width": 0.5
             }
            },
            "type": "barpolar"
           }
          ],
          "carpet": [
           {
            "aaxis": {
             "endlinecolor": "#2a3f5f",
             "gridcolor": "white",
             "linecolor": "white",
             "minorgridcolor": "white",
             "startlinecolor": "#2a3f5f"
            },
            "baxis": {
             "endlinecolor": "#2a3f5f",
             "gridcolor": "white",
             "linecolor": "white",
             "minorgridcolor": "white",
             "startlinecolor": "#2a3f5f"
            },
            "type": "carpet"
           }
          ],
          "choropleth": [
           {
            "colorbar": {
             "outlinewidth": 0,
             "ticks": ""
            },
            "type": "choropleth"
           }
          ],
          "contour": [
           {
            "colorbar": {
             "outlinewidth": 0,
             "ticks": ""
            },
            "colorscale": [
             [
              0,
              "#0d0887"
             ],
             [
              0.1111111111111111,
              "#46039f"
             ],
             [
              0.2222222222222222,
              "#7201a8"
             ],
             [
              0.3333333333333333,
              "#9c179e"
             ],
             [
              0.4444444444444444,
              "#bd3786"
             ],
             [
              0.5555555555555556,
              "#d8576b"
             ],
             [
              0.6666666666666666,
              "#ed7953"
             ],
             [
              0.7777777777777778,
              "#fb9f3a"
             ],
             [
              0.8888888888888888,
              "#fdca26"
             ],
             [
              1,
              "#f0f921"
             ]
            ],
            "type": "contour"
           }
          ],
          "contourcarpet": [
           {
            "colorbar": {
             "outlinewidth": 0,
             "ticks": ""
            },
            "type": "contourcarpet"
           }
          ],
          "heatmap": [
           {
            "colorbar": {
             "outlinewidth": 0,
             "ticks": ""
            },
            "colorscale": [
             [
              0,
              "#0d0887"
             ],
             [
              0.1111111111111111,
              "#46039f"
             ],
             [
              0.2222222222222222,
              "#7201a8"
             ],
             [
              0.3333333333333333,
              "#9c179e"
             ],
             [
              0.4444444444444444,
              "#bd3786"
             ],
             [
              0.5555555555555556,
              "#d8576b"
             ],
             [
              0.6666666666666666,
              "#ed7953"
             ],
             [
              0.7777777777777778,
              "#fb9f3a"
             ],
             [
              0.8888888888888888,
              "#fdca26"
             ],
             [
              1,
              "#f0f921"
             ]
            ],
            "type": "heatmap"
           }
          ],
          "heatmapgl": [
           {
            "colorbar": {
             "outlinewidth": 0,
             "ticks": ""
            },
            "colorscale": [
             [
              0,
              "#0d0887"
             ],
             [
              0.1111111111111111,
              "#46039f"
             ],
             [
              0.2222222222222222,
              "#7201a8"
             ],
             [
              0.3333333333333333,
              "#9c179e"
             ],
             [
              0.4444444444444444,
              "#bd3786"
             ],
             [
              0.5555555555555556,
              "#d8576b"
             ],
             [
              0.6666666666666666,
              "#ed7953"
             ],
             [
              0.7777777777777778,
              "#fb9f3a"
             ],
             [
              0.8888888888888888,
              "#fdca26"
             ],
             [
              1,
              "#f0f921"
             ]
            ],
            "type": "heatmapgl"
           }
          ],
          "histogram": [
           {
            "marker": {
             "colorbar": {
              "outlinewidth": 0,
              "ticks": ""
             }
            },
            "type": "histogram"
           }
          ],
          "histogram2d": [
           {
            "colorbar": {
             "outlinewidth": 0,
             "ticks": ""
            },
            "colorscale": [
             [
              0,
              "#0d0887"
             ],
             [
              0.1111111111111111,
              "#46039f"
             ],
             [
              0.2222222222222222,
              "#7201a8"
             ],
             [
              0.3333333333333333,
              "#9c179e"
             ],
             [
              0.4444444444444444,
              "#bd3786"
             ],
             [
              0.5555555555555556,
              "#d8576b"
             ],
             [
              0.6666666666666666,
              "#ed7953"
             ],
             [
              0.7777777777777778,
              "#fb9f3a"
             ],
             [
              0.8888888888888888,
              "#fdca26"
             ],
             [
              1,
              "#f0f921"
             ]
            ],
            "type": "histogram2d"
           }
          ],
          "histogram2dcontour": [
           {
            "colorbar": {
             "outlinewidth": 0,
             "ticks": ""
            },
            "colorscale": [
             [
              0,
              "#0d0887"
             ],
             [
              0.1111111111111111,
              "#46039f"
             ],
             [
              0.2222222222222222,
              "#7201a8"
             ],
             [
              0.3333333333333333,
              "#9c179e"
             ],
             [
              0.4444444444444444,
              "#bd3786"
             ],
             [
              0.5555555555555556,
              "#d8576b"
             ],
             [
              0.6666666666666666,
              "#ed7953"
             ],
             [
              0.7777777777777778,
              "#fb9f3a"
             ],
             [
              0.8888888888888888,
              "#fdca26"
             ],
             [
              1,
              "#f0f921"
             ]
            ],
            "type": "histogram2dcontour"
           }
          ],
          "mesh3d": [
           {
            "colorbar": {
             "outlinewidth": 0,
             "ticks": ""
            },
            "type": "mesh3d"
           }
          ],
          "parcoords": [
           {
            "line": {
             "colorbar": {
              "outlinewidth": 0,
              "ticks": ""
             }
            },
            "type": "parcoords"
           }
          ],
          "scatter": [
           {
            "marker": {
             "colorbar": {
              "outlinewidth": 0,
              "ticks": ""
             }
            },
            "type": "scatter"
           }
          ],
          "scatter3d": [
           {
            "line": {
             "colorbar": {
              "outlinewidth": 0,
              "ticks": ""
             }
            },
            "marker": {
             "colorbar": {
              "outlinewidth": 0,
              "ticks": ""
             }
            },
            "type": "scatter3d"
           }
          ],
          "scattercarpet": [
           {
            "marker": {
             "colorbar": {
              "outlinewidth": 0,
              "ticks": ""
             }
            },
            "type": "scattercarpet"
           }
          ],
          "scattergeo": [
           {
            "marker": {
             "colorbar": {
              "outlinewidth": 0,
              "ticks": ""
             }
            },
            "type": "scattergeo"
           }
          ],
          "scattergl": [
           {
            "marker": {
             "colorbar": {
              "outlinewidth": 0,
              "ticks": ""
             }
            },
            "type": "scattergl"
           }
          ],
          "scattermapbox": [
           {
            "marker": {
             "colorbar": {
              "outlinewidth": 0,
              "ticks": ""
             }
            },
            "type": "scattermapbox"
           }
          ],
          "scatterpolar": [
           {
            "marker": {
             "colorbar": {
              "outlinewidth": 0,
              "ticks": ""
             }
            },
            "type": "scatterpolar"
           }
          ],
          "scatterpolargl": [
           {
            "marker": {
             "colorbar": {
              "outlinewidth": 0,
              "ticks": ""
             }
            },
            "type": "scatterpolargl"
           }
          ],
          "scatterternary": [
           {
            "marker": {
             "colorbar": {
              "outlinewidth": 0,
              "ticks": ""
             }
            },
            "type": "scatterternary"
           }
          ],
          "surface": [
           {
            "colorbar": {
             "outlinewidth": 0,
             "ticks": ""
            },
            "colorscale": [
             [
              0,
              "#0d0887"
             ],
             [
              0.1111111111111111,
              "#46039f"
             ],
             [
              0.2222222222222222,
              "#7201a8"
             ],
             [
              0.3333333333333333,
              "#9c179e"
             ],
             [
              0.4444444444444444,
              "#bd3786"
             ],
             [
              0.5555555555555556,
              "#d8576b"
             ],
             [
              0.6666666666666666,
              "#ed7953"
             ],
             [
              0.7777777777777778,
              "#fb9f3a"
             ],
             [
              0.8888888888888888,
              "#fdca26"
             ],
             [
              1,
              "#f0f921"
             ]
            ],
            "type": "surface"
           }
          ],
          "table": [
           {
            "cells": {
             "fill": {
              "color": "#EBF0F8"
             },
             "line": {
              "color": "white"
             }
            },
            "header": {
             "fill": {
              "color": "#C8D4E3"
             },
             "line": {
              "color": "white"
             }
            },
            "type": "table"
           }
          ]
         },
         "layout": {
          "annotationdefaults": {
           "arrowcolor": "#2a3f5f",
           "arrowhead": 0,
           "arrowwidth": 1
          },
          "colorscale": {
           "diverging": [
            [
             0,
             "#8e0152"
            ],
            [
             0.1,
             "#c51b7d"
            ],
            [
             0.2,
             "#de77ae"
            ],
            [
             0.3,
             "#f1b6da"
            ],
            [
             0.4,
             "#fde0ef"
            ],
            [
             0.5,
             "#f7f7f7"
            ],
            [
             0.6,
             "#e6f5d0"
            ],
            [
             0.7,
             "#b8e186"
            ],
            [
             0.8,
             "#7fbc41"
            ],
            [
             0.9,
             "#4d9221"
            ],
            [
             1,
             "#276419"
            ]
           ],
           "sequential": [
            [
             0,
             "#0d0887"
            ],
            [
             0.1111111111111111,
             "#46039f"
            ],
            [
             0.2222222222222222,
             "#7201a8"
            ],
            [
             0.3333333333333333,
             "#9c179e"
            ],
            [
             0.4444444444444444,
             "#bd3786"
            ],
            [
             0.5555555555555556,
             "#d8576b"
            ],
            [
             0.6666666666666666,
             "#ed7953"
            ],
            [
             0.7777777777777778,
             "#fb9f3a"
            ],
            [
             0.8888888888888888,
             "#fdca26"
            ],
            [
             1,
             "#f0f921"
            ]
           ],
           "sequentialminus": [
            [
             0,
             "#0d0887"
            ],
            [
             0.1111111111111111,
             "#46039f"
            ],
            [
             0.2222222222222222,
             "#7201a8"
            ],
            [
             0.3333333333333333,
             "#9c179e"
            ],
            [
             0.4444444444444444,
             "#bd3786"
            ],
            [
             0.5555555555555556,
             "#d8576b"
            ],
            [
             0.6666666666666666,
             "#ed7953"
            ],
            [
             0.7777777777777778,
             "#fb9f3a"
            ],
            [
             0.8888888888888888,
             "#fdca26"
            ],
            [
             1,
             "#f0f921"
            ]
           ]
          },
          "colorway": [
           "#636efa",
           "#EF553B",
           "#00cc96",
           "#ab63fa",
           "#FFA15A",
           "#19d3f3",
           "#FF6692",
           "#B6E880",
           "#FF97FF",
           "#FECB52"
          ],
          "font": {
           "color": "#2a3f5f"
          },
          "geo": {
           "bgcolor": "white",
           "lakecolor": "white",
           "landcolor": "#E5ECF6",
           "showlakes": true,
           "showland": true,
           "subunitcolor": "white"
          },
          "hoverlabel": {
           "align": "left"
          },
          "hovermode": "closest",
          "mapbox": {
           "style": "light"
          },
          "paper_bgcolor": "white",
          "plot_bgcolor": "#E5ECF6",
          "polar": {
           "angularaxis": {
            "gridcolor": "white",
            "linecolor": "white",
            "ticks": ""
           },
           "bgcolor": "#E5ECF6",
           "radialaxis": {
            "gridcolor": "white",
            "linecolor": "white",
            "ticks": ""
           }
          },
          "scene": {
           "xaxis": {
            "backgroundcolor": "#E5ECF6",
            "gridcolor": "white",
            "gridwidth": 2,
            "linecolor": "white",
            "showbackground": true,
            "ticks": "",
            "zerolinecolor": "white"
           },
           "yaxis": {
            "backgroundcolor": "#E5ECF6",
            "gridcolor": "white",
            "gridwidth": 2,
            "linecolor": "white",
            "showbackground": true,
            "ticks": "",
            "zerolinecolor": "white"
           },
           "zaxis": {
            "backgroundcolor": "#E5ECF6",
            "gridcolor": "white",
            "gridwidth": 2,
            "linecolor": "white",
            "showbackground": true,
            "ticks": "",
            "zerolinecolor": "white"
           }
          },
          "shapedefaults": {
           "line": {
            "color": "#2a3f5f"
           }
          },
          "ternary": {
           "aaxis": {
            "gridcolor": "white",
            "linecolor": "white",
            "ticks": ""
           },
           "baxis": {
            "gridcolor": "white",
            "linecolor": "white",
            "ticks": ""
           },
           "bgcolor": "#E5ECF6",
           "caxis": {
            "gridcolor": "white",
            "linecolor": "white",
            "ticks": ""
           }
          },
          "title": {
           "x": 0.05
          },
          "xaxis": {
           "automargin": true,
           "gridcolor": "white",
           "linecolor": "white",
           "ticks": "",
           "zerolinecolor": "white",
           "zerolinewidth": 2
          },
          "yaxis": {
           "automargin": true,
           "gridcolor": "white",
           "linecolor": "white",
           "ticks": "",
           "zerolinecolor": "white",
           "zerolinewidth": 2
          }
         }
        }
       }
      },
      "text/html": [
       "<div>\n",
       "        \n",
       "        \n",
       "            <div id=\"de761796-c724-45aa-b55e-ad0f484f021b\" class=\"plotly-graph-div\" style=\"height:600px; width:100%;\"></div>\n",
       "            <script type=\"text/javascript\">\n",
       "                require([\"plotly\"], function(Plotly) {\n",
       "                    window.PLOTLYENV=window.PLOTLYENV || {};\n",
       "                    \n",
       "                if (document.getElementById(\"de761796-c724-45aa-b55e-ad0f484f021b\")) {\n",
       "                    Plotly.newPlot(\n",
       "                        'de761796-c724-45aa-b55e-ad0f484f021b',\n",
       "                        [{\"hoverlabel\": {\"namelength\": 0}, \"hovertemplate\": \"label=ALL<br>x=%{x}<br>y=%{y}<br>z=%{z}\", \"legendgroup\": \"label=ALL\", \"marker\": {\"color\": \"#636efa\", \"symbol\": \"circle\"}, \"mode\": \"markers\", \"name\": \"label=ALL\", \"scene\": \"scene\", \"showlegend\": true, \"type\": \"scatter3d\", \"x\": [190.0162811279297, -114.06036376953125, -68.77011108398438, 51.17961502075195, -118.31633758544922, -160.8885498046875, -11.891715049743652, -113.9288558959961, -19.64314079284668, -8.67321491241455, -89.44256591796875, -87.68280029296875, -64.59178161621094, 3.3967583179473877, -12.914433479309082, -83.3215103149414, -60.294891357421875, -123.80964660644531, -91.06685638427734, -86.9251708984375, -49.183021545410156, -13.557903289794922, 92.06593322753906, -20.242141723632812, 31.04779052734375, 34.70252227783203, -120.33649444580078, -51.7178955078125, -59.991004943847656, 11.305156707763672, -133.10739135742188, -10.19031810760498, -111.29865264892578, -51.84303665161133, -147.38926696777344, -66.54376220703125, 69.47930908203125, 68.36719512939453], \"y\": [-70.80976867675781, -10.1897611618042, 35.06536102294922, 141.77984619140625, 96.23217010498047, 7.400527477264404, 32.97263717651367, 130.92855834960938, 17.808210372924805, 183.05911254882812, 177.87838745117188, 131.195068359375, 14.095775604248047, 173.08287048339844, 127.13475799560547, 63.24134063720703, 149.23036193847656, 29.807344436645508, 3.3558928966522217, 90.0935287475586, 81.7037582397461, 117.5672378540039, 125.4508056640625, 85.3564453125, 46.36317443847656, 65.06865692138672, 50.285892486572266, 107.92525482177734, 51.423118591308594, 116.91883850097656, 130.21951293945312, 134.4868927001953, 18.32171630859375, -22.25308609008789, 76.68368530273438, 122.91958618164062, 68.21046447753906, 77.43238830566406], \"z\": [29.57680892944336, -114.97965240478516, -84.51567840576172, -92.92283630371094, 47.36642074584961, 9.558042526245117, -109.09960174560547, -14.743058204650879, -36.262508392333984, -3.9270594120025635, 19.479448318481445, -124.79424285888672, -149.77978515625, -76.15922546386719, -170.8879852294922, -11.664790153503418, -70.09722137451172, -58.45988464355469, 1.137850284576416, -70.44493103027344, -130.62794494628906, 25.42743682861328, -35.49772262573242, -76.78853607177734, -58.51203536987305, -165.27491760253906, -134.21176147460938, -23.09961700439453, 46.076881408691406, -35.704837799072266, -80.49658203125, -113.1137466430664, 60.88144302368164, -60.24446105957031, -0.6391453742980957, 67.81033325195312, -23.907520294189453, -99.33284759521484]}, {\"hoverlabel\": {\"namelength\": 0}, \"hovertemplate\": \"label=AML<br>x=%{x}<br>y=%{y}<br>z=%{z}\", \"legendgroup\": \"label=AML\", \"marker\": {\"color\": \"#EF553B\", \"symbol\": \"circle\"}, \"mode\": \"markers\", \"name\": \"label=AML\", \"scene\": \"scene\", \"showlegend\": true, \"type\": \"scatter3d\", \"x\": [50.31196594238281, 22.09849739074707, 101.57278442382812, -11.19433879852295, 143.4510955810547, 176.27804565429688, 36.33646774291992, 38.68690872192383, 78.86011505126953, 2.3830316066741943, 43.955997467041016, -13.052653312683105, -8.932648658752441], \"y\": [-154.54754638671875, -67.8242416381836, -145.82852172851562, -146.74490356445312, -10.926968574523926, -44.634910583496094, -190.94041442871094, -68.13724517822266, -93.1421127319336, -124.64887237548828, -128.59365844726562, -89.46422576904297, -172.97085571289062], \"z\": [-25.554840087890625, -47.7756462097168, -70.72049713134766, -95.3587646484375, -16.915664672851562, -56.79347229003906, -74.11786651611328, -108.61837005615234, -63.77057647705078, -33.976619720458984, -100.06440734863281, -83.40092468261719, 16.802040100097656]}, {\"hoverlabel\": {\"namelength\": 0}, \"hovertemplate\": \"label=Breast Cancer<br>x=%{x}<br>y=%{y}<br>z=%{z}\", \"legendgroup\": \"label=Breast Cancer\", \"marker\": {\"color\": \"#00cc96\", \"symbol\": \"circle\"}, \"mode\": \"markers\", \"name\": \"label=Breast Cancer\", \"scene\": \"scene\", \"showlegend\": true, \"type\": \"scatter3d\", \"x\": [-18.47039222717285, -65.49637603759766, 109.22653198242188, 116.6073226928711, 9.558937072753906, -160.03390502929688, -81.28404998779297, -81.6913833618164, -11.505203247070312, 121.67179107666016, 80.42020416259766, -43.12261962890625, 143.2351837158203, 122.77576446533203, 131.11097717285156, 36.842533111572266, 145.82505798339844, 28.356231689453125, -24.048442840576172, 2.764162302017212, 41.134700775146484, -137.8558807373047, 39.9535026550293, 92.50321960449219, 68.89240264892578, 18.032779693603516, 92.65764617919922, 59.63764190673828, 172.60321044921875, -49.008934020996094, 122.57955932617188, 7.169700622558594, 66.03540802001953, 20.61654281616211, -53.53386688232422, 72.20110321044922, 80.02033233642578, 17.992145538330078, 119.80603790283203], \"y\": [-63.775604248046875, -116.96613311767578, 91.4854965209961, -4.84016227722168, -121.08524322509766, 37.461334228515625, -69.99525451660156, -74.19210052490234, -72.29194641113281, 57.08650588989258, 2.041579008102417, -21.988807678222656, 48.06278991699219, -66.34046936035156, -87.8642349243164, -85.61226654052734, 0.5184051394462585, 141.50759887695312, -31.994035720825195, 44.79338455200195, -74.48345184326172, -64.51215362548828, -24.413026809692383, 3.8518824577331543, 100.38928985595703, -17.993419647216797, -127.24109649658203, 40.40981674194336, -24.905963897705078, 20.298994064331055, -65.10672760009766, 85.17462158203125, 29.490806579589844, -14.70666217803955, -95.81957244873047, -94.9363021850586, -28.539215087890625, 29.486906051635742, 26.81585693359375], \"z\": [40.10293197631836, 12.409775733947754, 131.76156616210938, 47.435333251953125, 62.213253021240234, 106.64955139160156, 29.595619201660156, 100.38008117675781, 105.69155883789062, 35.54170608520508, -142.1302490234375, 82.6707763671875, -60.45401382446289, 76.88441467285156, -12.075089454650879, 188.0548095703125, -110.48282623291016, 103.66224670410156, 176.41867065429688, 81.56385040283203, 65.71517181396484, -21.082059860229492, 150.15924072265625, 171.93988037109375, 67.08892059326172, 33.56795120239258, 61.66690444946289, 128.88128662109375, 120.10066986083984, 134.68968200683594, -115.81625366210938, 137.8480682373047, 69.49552917480469, 92.27082061767578, 155.56930541992188, 124.54205322265625, 96.4337387084961, 172.92935180664062, 117.59418487548828]}, {\"hoverlabel\": {\"namelength\": 0}, \"hovertemplate\": \"label=Colon Cancer<br>x=%{x}<br>y=%{y}<br>z=%{z}\", \"legendgroup\": \"label=Colon Cancer\", \"marker\": {\"color\": \"#ab63fa\", \"symbol\": \"circle\"}, \"mode\": \"markers\", \"name\": \"label=Colon Cancer\", \"scene\": \"scene\", \"showlegend\": true, \"type\": \"scatter3d\", \"x\": [-76.93976593017578, 19.84621810913086, -17.866519927978516, 69.58836364746094, 61.445072174072266, -90.21035766601562, -60.64925003051758, -94.28898620605469, 71.68961334228516, -14.372291564941406], \"y\": [-94.70822143554688, 40.288177490234375, -79.07099914550781, -21.212566375732422, -82.3194351196289, -118.78946685791016, -169.7555389404297, -156.7257537841797, -13.255440711975098, -169.18814086914062], \"z\": [-123.24368286132812, 12.295478820800781, -157.95733642578125, -6.1001057624816895, 2.7053420543670654, -63.489891052246094, -38.123619079589844, 64.34980773925781, -63.45684814453125, 106.71775817871094]}],\n",
       "                        {\"height\": 600, \"legend\": {\"tracegroupgap\": 0}, \"margin\": {\"t\": 60}, \"scene\": {\"domain\": {\"x\": [0.0, 0.98], \"y\": [0.0, 1.0]}, \"xaxis\": {\"title\": {\"text\": \"x\"}}, \"yaxis\": {\"title\": {\"text\": \"y\"}}, \"zaxis\": {\"title\": {\"text\": \"z\"}}}, \"template\": {\"data\": {\"bar\": [{\"error_x\": {\"color\": \"#2a3f5f\"}, \"error_y\": {\"color\": \"#2a3f5f\"}, \"marker\": {\"line\": {\"color\": \"#E5ECF6\", \"width\": 0.5}}, \"type\": \"bar\"}], \"barpolar\": [{\"marker\": {\"line\": {\"color\": \"#E5ECF6\", \"width\": 0.5}}, \"type\": \"barpolar\"}], \"carpet\": [{\"aaxis\": {\"endlinecolor\": \"#2a3f5f\", \"gridcolor\": \"white\", \"linecolor\": \"white\", \"minorgridcolor\": \"white\", \"startlinecolor\": \"#2a3f5f\"}, \"baxis\": {\"endlinecolor\": \"#2a3f5f\", \"gridcolor\": \"white\", \"linecolor\": \"white\", \"minorgridcolor\": \"white\", \"startlinecolor\": \"#2a3f5f\"}, \"type\": \"carpet\"}], \"choropleth\": [{\"colorbar\": {\"outlinewidth\": 0, \"ticks\": \"\"}, \"type\": \"choropleth\"}], \"contour\": [{\"colorbar\": {\"outlinewidth\": 0, \"ticks\": \"\"}, \"colorscale\": [[0.0, \"#0d0887\"], [0.1111111111111111, \"#46039f\"], [0.2222222222222222, \"#7201a8\"], [0.3333333333333333, \"#9c179e\"], [0.4444444444444444, \"#bd3786\"], [0.5555555555555556, \"#d8576b\"], [0.6666666666666666, \"#ed7953\"], [0.7777777777777778, \"#fb9f3a\"], [0.8888888888888888, \"#fdca26\"], [1.0, \"#f0f921\"]], \"type\": \"contour\"}], \"contourcarpet\": [{\"colorbar\": {\"outlinewidth\": 0, \"ticks\": \"\"}, \"type\": \"contourcarpet\"}], \"heatmap\": [{\"colorbar\": {\"outlinewidth\": 0, \"ticks\": \"\"}, \"colorscale\": [[0.0, \"#0d0887\"], [0.1111111111111111, \"#46039f\"], [0.2222222222222222, \"#7201a8\"], [0.3333333333333333, \"#9c179e\"], [0.4444444444444444, \"#bd3786\"], [0.5555555555555556, \"#d8576b\"], [0.6666666666666666, \"#ed7953\"], [0.7777777777777778, \"#fb9f3a\"], [0.8888888888888888, \"#fdca26\"], [1.0, \"#f0f921\"]], \"type\": \"heatmap\"}], \"heatmapgl\": [{\"colorbar\": {\"outlinewidth\": 0, \"ticks\": \"\"}, \"colorscale\": [[0.0, \"#0d0887\"], [0.1111111111111111, \"#46039f\"], [0.2222222222222222, \"#7201a8\"], [0.3333333333333333, \"#9c179e\"], [0.4444444444444444, \"#bd3786\"], [0.5555555555555556, \"#d8576b\"], [0.6666666666666666, \"#ed7953\"], [0.7777777777777778, \"#fb9f3a\"], [0.8888888888888888, \"#fdca26\"], [1.0, \"#f0f921\"]], \"type\": \"heatmapgl\"}], \"histogram\": [{\"marker\": {\"colorbar\": {\"outlinewidth\": 0, \"ticks\": \"\"}}, \"type\": \"histogram\"}], \"histogram2d\": [{\"colorbar\": {\"outlinewidth\": 0, \"ticks\": \"\"}, \"colorscale\": [[0.0, \"#0d0887\"], [0.1111111111111111, \"#46039f\"], [0.2222222222222222, \"#7201a8\"], [0.3333333333333333, \"#9c179e\"], [0.4444444444444444, \"#bd3786\"], [0.5555555555555556, \"#d8576b\"], [0.6666666666666666, \"#ed7953\"], [0.7777777777777778, \"#fb9f3a\"], [0.8888888888888888, \"#fdca26\"], [1.0, \"#f0f921\"]], \"type\": \"histogram2d\"}], \"histogram2dcontour\": [{\"colorbar\": {\"outlinewidth\": 0, \"ticks\": \"\"}, \"colorscale\": [[0.0, \"#0d0887\"], [0.1111111111111111, \"#46039f\"], [0.2222222222222222, \"#7201a8\"], [0.3333333333333333, \"#9c179e\"], [0.4444444444444444, \"#bd3786\"], [0.5555555555555556, \"#d8576b\"], [0.6666666666666666, \"#ed7953\"], [0.7777777777777778, \"#fb9f3a\"], [0.8888888888888888, \"#fdca26\"], [1.0, \"#f0f921\"]], \"type\": \"histogram2dcontour\"}], \"mesh3d\": [{\"colorbar\": {\"outlinewidth\": 0, \"ticks\": \"\"}, \"type\": \"mesh3d\"}], \"parcoords\": [{\"line\": {\"colorbar\": {\"outlinewidth\": 0, \"ticks\": \"\"}}, \"type\": \"parcoords\"}], \"scatter\": [{\"marker\": {\"colorbar\": {\"outlinewidth\": 0, \"ticks\": \"\"}}, \"type\": \"scatter\"}], \"scatter3d\": [{\"line\": {\"colorbar\": {\"outlinewidth\": 0, \"ticks\": \"\"}}, \"marker\": {\"colorbar\": {\"outlinewidth\": 0, \"ticks\": \"\"}}, \"type\": \"scatter3d\"}], \"scattercarpet\": [{\"marker\": {\"colorbar\": {\"outlinewidth\": 0, \"ticks\": \"\"}}, \"type\": \"scattercarpet\"}], \"scattergeo\": [{\"marker\": {\"colorbar\": {\"outlinewidth\": 0, \"ticks\": \"\"}}, \"type\": \"scattergeo\"}], \"scattergl\": [{\"marker\": {\"colorbar\": {\"outlinewidth\": 0, \"ticks\": \"\"}}, \"type\": \"scattergl\"}], \"scattermapbox\": [{\"marker\": {\"colorbar\": {\"outlinewidth\": 0, \"ticks\": \"\"}}, \"type\": \"scattermapbox\"}], \"scatterpolar\": [{\"marker\": {\"colorbar\": {\"outlinewidth\": 0, \"ticks\": \"\"}}, \"type\": \"scatterpolar\"}], \"scatterpolargl\": [{\"marker\": {\"colorbar\": {\"outlinewidth\": 0, \"ticks\": \"\"}}, \"type\": \"scatterpolargl\"}], \"scatterternary\": [{\"marker\": {\"colorbar\": {\"outlinewidth\": 0, \"ticks\": \"\"}}, \"type\": \"scatterternary\"}], \"surface\": [{\"colorbar\": {\"outlinewidth\": 0, \"ticks\": \"\"}, \"colorscale\": [[0.0, \"#0d0887\"], [0.1111111111111111, \"#46039f\"], [0.2222222222222222, \"#7201a8\"], [0.3333333333333333, \"#9c179e\"], [0.4444444444444444, \"#bd3786\"], [0.5555555555555556, \"#d8576b\"], [0.6666666666666666, \"#ed7953\"], [0.7777777777777778, \"#fb9f3a\"], [0.8888888888888888, \"#fdca26\"], [1.0, \"#f0f921\"]], \"type\": \"surface\"}], \"table\": [{\"cells\": {\"fill\": {\"color\": \"#EBF0F8\"}, \"line\": {\"color\": \"white\"}}, \"header\": {\"fill\": {\"color\": \"#C8D4E3\"}, \"line\": {\"color\": \"white\"}}, \"type\": \"table\"}]}, \"layout\": {\"annotationdefaults\": {\"arrowcolor\": \"#2a3f5f\", \"arrowhead\": 0, \"arrowwidth\": 1}, \"colorscale\": {\"diverging\": [[0, \"#8e0152\"], [0.1, \"#c51b7d\"], [0.2, \"#de77ae\"], [0.3, \"#f1b6da\"], [0.4, \"#fde0ef\"], [0.5, \"#f7f7f7\"], [0.6, \"#e6f5d0\"], [0.7, \"#b8e186\"], [0.8, \"#7fbc41\"], [0.9, \"#4d9221\"], [1, \"#276419\"]], \"sequential\": [[0.0, \"#0d0887\"], [0.1111111111111111, \"#46039f\"], [0.2222222222222222, \"#7201a8\"], [0.3333333333333333, \"#9c179e\"], [0.4444444444444444, \"#bd3786\"], [0.5555555555555556, \"#d8576b\"], [0.6666666666666666, \"#ed7953\"], [0.7777777777777778, \"#fb9f3a\"], [0.8888888888888888, \"#fdca26\"], [1.0, \"#f0f921\"]], \"sequentialminus\": [[0.0, \"#0d0887\"], [0.1111111111111111, \"#46039f\"], [0.2222222222222222, \"#7201a8\"], [0.3333333333333333, \"#9c179e\"], [0.4444444444444444, \"#bd3786\"], [0.5555555555555556, \"#d8576b\"], [0.6666666666666666, \"#ed7953\"], [0.7777777777777778, \"#fb9f3a\"], [0.8888888888888888, \"#fdca26\"], [1.0, \"#f0f921\"]]}, \"colorway\": [\"#636efa\", \"#EF553B\", \"#00cc96\", \"#ab63fa\", \"#FFA15A\", \"#19d3f3\", \"#FF6692\", \"#B6E880\", \"#FF97FF\", \"#FECB52\"], \"font\": {\"color\": \"#2a3f5f\"}, \"geo\": {\"bgcolor\": \"white\", \"lakecolor\": \"white\", \"landcolor\": \"#E5ECF6\", \"showlakes\": true, \"showland\": true, \"subunitcolor\": \"white\"}, \"hoverlabel\": {\"align\": \"left\"}, \"hovermode\": \"closest\", \"mapbox\": {\"style\": \"light\"}, \"paper_bgcolor\": \"white\", \"plot_bgcolor\": \"#E5ECF6\", \"polar\": {\"angularaxis\": {\"gridcolor\": \"white\", \"linecolor\": \"white\", \"ticks\": \"\"}, \"bgcolor\": \"#E5ECF6\", \"radialaxis\": {\"gridcolor\": \"white\", \"linecolor\": \"white\", \"ticks\": \"\"}}, \"scene\": {\"xaxis\": {\"backgroundcolor\": \"#E5ECF6\", \"gridcolor\": \"white\", \"gridwidth\": 2, \"linecolor\": \"white\", \"showbackground\": true, \"ticks\": \"\", \"zerolinecolor\": \"white\"}, \"yaxis\": {\"backgroundcolor\": \"#E5ECF6\", \"gridcolor\": \"white\", \"gridwidth\": 2, \"linecolor\": \"white\", \"showbackground\": true, \"ticks\": \"\", \"zerolinecolor\": \"white\"}, \"zaxis\": {\"backgroundcolor\": \"#E5ECF6\", \"gridcolor\": \"white\", \"gridwidth\": 2, \"linecolor\": \"white\", \"showbackground\": true, \"ticks\": \"\", \"zerolinecolor\": \"white\"}}, \"shapedefaults\": {\"line\": {\"color\": \"#2a3f5f\"}}, \"ternary\": {\"aaxis\": {\"gridcolor\": \"white\", \"linecolor\": \"white\", \"ticks\": \"\"}, \"baxis\": {\"gridcolor\": \"white\", \"linecolor\": \"white\", \"ticks\": \"\"}, \"bgcolor\": \"#E5ECF6\", \"caxis\": {\"gridcolor\": \"white\", \"linecolor\": \"white\", \"ticks\": \"\"}}, \"title\": {\"x\": 0.05}, \"xaxis\": {\"automargin\": true, \"gridcolor\": \"white\", \"linecolor\": \"white\", \"ticks\": \"\", \"zerolinecolor\": \"white\", \"zerolinewidth\": 2}, \"yaxis\": {\"automargin\": true, \"gridcolor\": \"white\", \"linecolor\": \"white\", \"ticks\": \"\", \"zerolinecolor\": \"white\", \"zerolinewidth\": 2}}}},\n",
       "                        {\"responsive\": true}\n",
       "                    ).then(function(){\n",
       "                            \n",
       "var gd = document.getElementById('de761796-c724-45aa-b55e-ad0f484f021b');\n",
       "var x = new MutationObserver(function (mutations, observer) {{\n",
       "        var display = window.getComputedStyle(gd).display;\n",
       "        if (!display || display === 'none') {{\n",
       "            console.log([gd, 'removed!']);\n",
       "            Plotly.purge(gd);\n",
       "            observer.disconnect();\n",
       "        }}\n",
       "}});\n",
       "\n",
       "// Listen for the removal of the full notebook cells\n",
       "var notebookContainer = gd.closest('#notebook-container');\n",
       "if (notebookContainer) {{\n",
       "    x.observe(notebookContainer, {childList: true});\n",
       "}}\n",
       "\n",
       "// Listen for the clearing of the current output cell\n",
       "var outputEl = gd.closest('.output');\n",
       "if (outputEl) {{\n",
       "    x.observe(outputEl, {childList: true});\n",
       "}}\n",
       "\n",
       "                        })\n",
       "                };\n",
       "                });\n",
       "            </script>\n",
       "        </div>"
      ]
     },
     "metadata": {},
     "output_type": "display_data"
    }
   ],
   "source": [
    "sne = TSNE(n_components=3).fit_transform(df)\n",
    "\n",
    "df_transformed = pd.DataFrame(sne)\n",
    "final_dataframe = np.hstack((df_transformed, class_label))\n",
    "\n",
    "final_dataframe = pd.DataFrame(final_dataframe)\n",
    "\n",
    "# Defining the column names\n",
    "final_dataframe.columns = ['x', 'y', 'z', 'label']\n",
    "\n",
    "\n",
    "# Changing Complex values to real values\n",
    "A = [x.real for x in final_dataframe.x]\n",
    "B = [x.real for x in final_dataframe.y]\n",
    "C = [x.real for x in final_dataframe.z]\n",
    "\n",
    "# Adding Values to dictionary \n",
    "dictFrame = {'X': A, 'Y': B, 'Z':C }\n",
    "\n",
    "# Converting dictionary to a dataframe\n",
    "dFrame = pd.DataFrame(dictFrame)\n",
    "\n",
    "# Appending label column to the dataframe\n",
    "changed_dataFrame = horizontalStack(dFrame, class_label)\n",
    "\n",
    "# Changing the array to dataframe and changing the column labels\n",
    "changed_dataFrame = pd.DataFrame(changed_dataFrame)\n",
    "changed_dataFrame.columns = ['x', 'y', 'z', 'label']\n",
    "\n",
    "plot3D(changed_dataFrame)\n"
   ]
  },
  {
   "cell_type": "code",
   "execution_count": null,
   "metadata": {},
   "outputs": [],
   "source": []
  }
 ],
 "metadata": {
  "kernelspec": {
   "display_name": "Python 3",
   "language": "python",
   "name": "python3"
  },
  "language_info": {
   "codemirror_mode": {
    "name": "ipython",
    "version": 3
   },
   "file_extension": ".py",
   "mimetype": "text/x-python",
   "name": "python",
   "nbconvert_exporter": "python",
   "pygments_lexer": "ipython3",
   "version": "3.7.2"
  },
  "toc": {
   "base_numbering": 1,
   "nav_menu": {},
   "number_sections": true,
   "sideBar": true,
   "skip_h1_title": false,
   "title_cell": "Table of Contents",
   "title_sidebar": "Contents",
   "toc_cell": false,
   "toc_position": {},
   "toc_section_display": true,
   "toc_window_display": true
  },
  "varInspector": {
   "cols": {
    "lenName": 16,
    "lenType": 16,
    "lenVar": 40
   },
   "kernels_config": {
    "python": {
     "delete_cmd_postfix": "",
     "delete_cmd_prefix": "del ",
     "library": "var_list.py",
     "varRefreshCmd": "print(var_dic_list())"
    },
    "r": {
     "delete_cmd_postfix": ") ",
     "delete_cmd_prefix": "rm(",
     "library": "var_list.r",
     "varRefreshCmd": "cat(var_dic_list()) "
    }
   },
   "position": {
    "height": "470px",
    "left": "1061px",
    "right": "20px",
    "top": "120px",
    "width": "359px"
   },
   "types_to_exclude": [
    "module",
    "function",
    "builtin_function_or_method",
    "instance",
    "_Feature"
   ],
   "window_display": false
  }
 },
 "nbformat": 4,
 "nbformat_minor": 2
}
