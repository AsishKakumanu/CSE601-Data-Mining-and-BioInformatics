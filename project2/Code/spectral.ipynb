{
 "cells": [
  {
   "cell_type": "code",
   "execution_count": 11,
   "metadata": {},
   "outputs": [],
   "source": [
    "import numpy as np\n",
    "import pandas as pd\n",
    "import matplotlib.pyplot as plt\n",
    "import sys\n",
    "from sklearn.decomposition import PCA"
   ]
  },
  {
   "cell_type": "code",
   "execution_count": 20,
   "metadata": {},
   "outputs": [
    {
     "name": "stdout",
     "output_type": "stream",
     "text": [
      "Enter the file name:iyer.txt\n",
      "Enter the sigma value: 0.8\n",
      "Enter the no of centroids: 5\n",
      "Enter GeneID for initial clusters: []\n"
     ]
    }
   ],
   "source": [
    "input_file_Path= input(\"Enter the file name:\")\n",
    "\n",
    "# input_file_Path =\"cho.txt\"\n",
    "filedata = np.loadtxt(input_file_Path, delimiter=\"\\t\")\n",
    "sigma = float(input(\"Enter the sigma value: \"))\n",
    "data = filedata[:,2:]\n",
    "k = int(input(\"Enter the no of centroids: \"))\n",
    "initial = eval(input(\"Enter GeneID for initial clusters: \"))"
   ]
  },
  {
   "cell_type": "code",
   "execution_count": 21,
   "metadata": {},
   "outputs": [],
   "source": [
    "def compute_distance(x,y,sig):\n",
    "    norm = np.linalg.norm(x-y)\n",
    "    dist = norm * norm\n",
    "    return np.exp(- dist / (sig * sig))"
   ]
  },
  {
   "cell_type": "code",
   "execution_count": 27,
   "metadata": {},
   "outputs": [],
   "source": [
    "def RbfKernel(data1, data2, sigma):\n",
    "    delta =np.matrix(abs(np.subtract(data1, data2)))\n",
    "    squaredEuclidean = (np.square(delta).sum(axis=1))\n",
    "    result = np.exp(-(squaredEuclidean)/(2*sigma**2))\n",
    "    return result"
   ]
  },
  {
   "cell_type": "code",
   "execution_count": 28,
   "metadata": {},
   "outputs": [
    {
     "name": "stdout",
     "output_type": "stream",
     "text": [
      "Index----- 226 7.749859837510982\n",
      "Using random centroids.\n"
     ]
    }
   ],
   "source": [
    "#computation of similarity matrix\n",
    "result = np.zeros((data.shape[0],data.shape[0]))\n",
    "nData = data.shape[0]\n",
    "for i in range(0,nData):\n",
    "    for j in range(0, nData):\n",
    "        weight = RbfKernel(data[i], data[j], sigma)\n",
    "        result[i,j] = weight\n",
    "        \n",
    "#print(result.shape)        \n",
    "similarityMatrix=result\n",
    "\n",
    "#degree matrix computation\n",
    "diag = np.array(similarityMatrix.sum(axis=1)).ravel()\n",
    "#print(diag.shape)\n",
    "degreeMatrix = np.diag(diag)\n",
    "\n",
    "#laplacian matrix computation\n",
    "laplacianMatrix = degreeMatrix - similarityMatrix\n",
    "\n",
    "values, vectors = np.linalg.eig(laplacianMatrix)\n",
    "#print(vectors.shape)\n",
    "\n",
    "# sort these based on the eigenvalues\n",
    "vectors = vectors[:,np.argsort(values)]\n",
    "values = values[np.argsort(values)]\n",
    "maxvalue = 0;\n",
    "index = 0;\n",
    "for i in range(1,len(values.tolist())):\n",
    "    if(values[i]-values[i-1] > maxvalue):\n",
    "        maxvalue = values[i]-values[i-1]\n",
    "        index = i\n",
    "                \n",
    "print(\"Index-----\", index,maxvalue)\n",
    "\n",
    "\n",
    "initial = []\n",
    "maxIterations = 300\n",
    "data = np.array(vectors[:,0:index+1])\n",
    "truelabels = filedata[:,1]\n",
    "truelabels = np.reshape(truelabels, (len(truelabels),1))\n",
    "\n",
    "\n",
    "## Initialize Centroids\n",
    "if(len(initial)==k):\n",
    "    initial=[i-1 for i in initial]\n",
    "    centroids= data[initial,:]\n",
    "else:\n",
    "    print(\"Using random centroids.\")\n",
    "    perm=np.random.permutation(len(data))\n",
    "    centroids= data[perm[0:k]]\n"
   ]
  },
  {
   "cell_type": "code",
   "execution_count": 29,
   "metadata": {},
   "outputs": [],
   "source": [
    "#K-Means algorithm\n",
    "iterations = 0\n",
    "prevCentroid = np.zeros(shape = centroids.shape)\n",
    "dataCluster = np.concatenate((np.zeros(shape = (data.shape[0],1)), data), axis = 1)\n",
    "clusterID = np.zeros(shape = (data.shape[0], 1))\n",
    "while((np.linalg.norm(prevCentroid-centroids)!=0) and (iterations<maxIterations)):\n",
    "    prevCentroid = np.copy(centroids)\n",
    "    for i in range(len(dataCluster)):\n",
    "        dist = np.linalg.norm(dataCluster[i,1:] - centroids, ord=2, axis=1)\n",
    "        dataCluster[i][0] = np.argmin(dist)\n",
    "        clusterID[i][0] = dataCluster[i][0]\n",
    "    for i in np.unique(dataCluster[:,0]):\n",
    "        centroids[int(i)] = dataCluster[dataCluster[:,0] == int(i)].mean(0)[1:]\n",
    "    iterations += 1\n",
    "clusterIDMatrix = []\n",
    "for i in clusterID:\n",
    "    clusterIDMatrix.append([i[0]+1])\n",
    "clusterID =np.array(clusterIDMatrix)"
   ]
  },
  {
   "cell_type": "code",
   "execution_count": 30,
   "metadata": {},
   "outputs": [],
   "source": [
    "#external coefficients computation\n",
    "groundTruth = (truelabels.T == truelabels).astype(int)\n",
    "clustering = (clusterID.T == clusterID).astype(int)\n",
    "table = (groundTruth == clustering)\n",
    "randIndex = table.sum()/table.size\n",
    "table1 =  groundTruth & clustering\n",
    "table2 = groundTruth | clustering\n",
    "JaccardIndex = table1.sum()/table2.sum()"
   ]
  },
  {
   "cell_type": "code",
   "execution_count": 31,
   "metadata": {},
   "outputs": [
    {
     "name": "stdout",
     "output_type": "stream",
     "text": [
      "sigma  0.8\n",
      "Iterations:  2\n",
      "Jaccard coefficient: 0.15554982381210672\n",
      "Random index: 0.16708132396020786\n",
      "labels\n",
      "1.0    513.0\n",
      "2.0      1.0\n",
      "3.0      1.0\n",
      "4.0      1.0\n",
      "5.0      1.0\n",
      "Name: count, dtype: float64\n"
     ]
    },
    {
     "data": {
      "image/png": "[encoded data removed]",
      "text/plain": [
       "<Figure size 432x288 with 1 Axes>"
      ]
     },
     "metadata": {},
     "output_type": "display_data"
    }
   ],
   "source": [
    "data = filedata[:,2:]\n",
    "#PCA for plotting\n",
    "X=(data - data.mean(0))\n",
    "# Covariance matrix\n",
    "S=(1/(X.shape[0]))*X.T.dot(X)\n",
    "#EigenVectors\n",
    "eigen_vectors=np.linalg.eig(S)[1]\n",
    "pca_plotData=data.dot(eigen_vectors[:,0:2])\n",
    "df_pca = pd.DataFrame(dict(x=list(pca_plotData[:,0]), y=list(pca_plotData[:,1]), labels=clusterID[:,0]))\n",
    "\n",
    "\n",
    "print(\"sigma \", sigma)\n",
    "print(\"Iterations: \",iterations)\n",
    "print(\"Jaccard coefficient:\",JaccardIndex)\n",
    "print(\"Random index:\",randIndex)\n",
    "\n",
    "print(df_pca['labels'].groupby(df_pca['labels']).describe()['count'])\n",
    "\n",
    "colors = plt.cm.get_cmap('hsv', k+1)\n",
    "#  Plotting the dataframe with labels\n",
    "fig = plt.figure()\n",
    "ax1 = fig.add_subplot(111)\n",
    "for i in range(k):\n",
    "    ax1.scatter(df_pca[df_pca['labels']== i+1 ]['x'], df_pca[df_pca['labels']==i+1]['y'], color=colors(i), label=i+1)\n",
    "plt.legend()\n",
    "plt.title(\"Spectral plot-\"+input_file_Path)\n",
    "plt.xlabel(\"Principle_component_1\")\n",
    "plt.ylabel(\"Principle_component_2\")\n",
    "\n",
    "plt.show()\n"
   ]
  }
 ],
 "metadata": {
  "kernelspec": {
   "display_name": "Python 3",
   "language": "python",
   "name": "python3"
  },
  "language_info": {
   "codemirror_mode": {
    "name": "ipython",
    "version": 3
   },
   "file_extension": ".py",
   "mimetype": "text/x-python",
   "name": "python",
   "nbconvert_exporter": "python",
   "pygments_lexer": "ipython3",
   "version": "3.6.4"
  }
 },
 "nbformat": 4,
 "nbformat_minor": 2
}
