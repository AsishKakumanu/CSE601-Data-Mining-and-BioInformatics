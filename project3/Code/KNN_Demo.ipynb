{
 "cells": [
  {
   "cell_type": "code",
   "execution_count": 2,
   "metadata": {},
   "outputs": [],
   "source": [
    "import numpy as np\n",
    "import math\n",
    "def dist(a, b):\n",
    "    return (np.dot(a - b, a - b)) ** .5"
   ]
  },
  {
   "cell_type": "code",
   "execution_count": 3,
   "metadata": {},
   "outputs": [],
   "source": [
    "### K nearest neighbour algorithm\n",
    "\n",
    "def knnAlgo(train_data, label, point, k):\n",
    "    list = []\n",
    "    for i in range(len(train_data)):\n",
    "        temp = dist(train_data[i], point)\n",
    "        list.append([temp, i])\n",
    "    list = sorted(list, key=lambda tup: tup[0])\n",
    "    ind_dict = dict()\n",
    "    for i in range(k):\n",
    "        ind_dict.setdefault(label[list[i][1]], 0)\n",
    "        ind_dict[label[list[i][1]]] += 1\n",
    "    max_label = max(ind_dict, key=ind_dict.get)\n",
    "    return max_label"
   ]
  },
  {
   "cell_type": "code",
   "execution_count": 4,
   "metadata": {},
   "outputs": [],
   "source": [
    "# dictlist = [dict() for x in range(len(data[0])-1)]\n",
    "def normalizeData(data):\n",
    "    data_norm = []\n",
    "    train_mean = []\n",
    "    train_sd = []\n",
    "    for i in range(data.shape[1]):\n",
    "        col = data[0:data.shape[0], i]\n",
    "        if col[0].isalpha():\n",
    "            print('Alphabet')\n",
    "            fcol = np.zeros(shape=col.shape)\n",
    "            keys = set(col)\n",
    "            values = list(range(0, len(keys)))\n",
    "            dictionary = dict(zip(keys, values))\n",
    "            for idx in range(len(col)):\n",
    "                fcol[idx] = (float(dictionary.get(col[idx])))\n",
    "            mean = np.mean(fcol)\n",
    "            sd = np.std(fcol)\n",
    "            ncol = (fcol - mean) / sd\n",
    "            data_norm.append(ncol)\n",
    "            train_mean.append(mean)\n",
    "            train_sd.append(sd)\n",
    "        else:\n",
    "            fcol = col.astype(np.float)\n",
    "            mean = np.mean(fcol)\n",
    "            sd = np.std(fcol)\n",
    "            ncol = (fcol - mean) / sd\n",
    "            data_norm.append(ncol)\n",
    "            train_mean.append(mean)\n",
    "            train_sd.append(sd)\n",
    "    data_norm = np.transpose(data_norm)\n",
    "    return data_norm, train_mean, train_sd"
   ]
  },
  {
   "cell_type": "code",
   "execution_count": 5,
   "metadata": {},
   "outputs": [],
   "source": [
    "def normalizeDataTest(data, mean, sd):\n",
    "    data_norm = []\n",
    "    for i in range(data.shape[1]):\n",
    "        col = data[0:data.shape[0], i]\n",
    "        if col[0].isalpha():\n",
    "            print('Alphabet')\n",
    "            fcol = np.zeros(shape=col.shape)\n",
    "            keys = set(col)\n",
    "            values = list(range(0, len(keys)))\n",
    "            dictionary = dict(zip(keys, values))\n",
    "            for idx in range(len(col)):\n",
    "                fcol[idx] = (float(dictionary.get(col[idx])))\n",
    "            alist=[]\n",
    "            for x in fcol:\n",
    "                alist.append((x- mean[i])/sd[i])\n",
    "            data_norm.append(alist)\n",
    "        else:\n",
    "            fcol = col.astype(np.float)\n",
    "            alist = []\n",
    "            for x in fcol:\n",
    "                alist.append((x - mean[i]) / sd[i])\n",
    "            data_norm.append(alist)\n",
    "    data_norm = np.transpose(data_norm)\n",
    "    return data_norm"
   ]
  },
  {
   "cell_type": "code",
   "execution_count": 6,
   "metadata": {},
   "outputs": [
    {
     "name": "stdout",
     "output_type": "stream",
     "text": [
      "Enter the K value = 9\n"
     ]
    }
   ],
   "source": [
    "input_file = \"project3_dataset3_train.txt\"\n",
    "kVal = int(input(\"Enter the K value = \"))\n",
    "data = np.loadtxt(input_file, dtype=str)\n",
    "data = np.array(data)\n",
    "train_label = data[:, data.shape[1] - 1]\n",
    "data = data[:, :data.shape[1] - 1]\n",
    "\n",
    "#reading the training file\n",
    "train_data, train_mean_col, train_sd_col= normalizeData(data)\n",
    "\n",
    "#reading the test file\n",
    "input_file1 = \"project3_dataset3_test.txt\"\n",
    "data1 = np.loadtxt(input_file1, dtype=str)\n",
    "data1 = np.array(data1)\n",
    "test_label = data1[:, data1.shape[1] - 1]\n",
    "data1 = data1[:, :data1.shape[1] - 1]\n",
    "\n",
    "#reading the training file\n",
    "test_data= normalizeDataTest(data1, train_mean_col, train_sd_col)"
   ]
  },
  {
   "cell_type": "code",
   "execution_count": 7,
   "metadata": {},
   "outputs": [
    {
     "name": "stdout",
     "output_type": "stream",
     "text": [
      "Accuracy: 95.0\n",
      "Precision: 100.0\n",
      "Recall: 90.0\n",
      "FMeasure: 0.9473684210526315\n"
     ]
    }
   ],
   "source": [
    "truePositive = 0\n",
    "trueNegative = 0\n",
    "falsePositive = 0\n",
    "falseNegative = 0\n",
    "\n",
    "predicted_class = []\n",
    "\n",
    "for tVal in test_data:\n",
    "    d = knnAlgo(train_data, train_label, tVal, kVal)\n",
    "    predicted_class.append(d)\n",
    "\n",
    "for j in range(len(test_label)):\n",
    "    if predicted_class[j] == test_label[j]:\n",
    "        if predicted_class[j] == '0':\n",
    "            trueNegative += 1\n",
    "        else:\n",
    "            truePositive += 1\n",
    "    else:\n",
    "        if predicted_class[j] == '0':\n",
    "            falseNegative += 1\n",
    "        else:\n",
    "            falsePositive += 1\n",
    "\n",
    "Accuracy = float(truePositive + trueNegative) / (truePositive + trueNegative + falseNegative + falsePositive)\n",
    "Accuracy *= 100\n",
    "Precision = float(truePositive / (truePositive + falsePositive))\n",
    "Precision *= 100\n",
    "Recall = (float(truePositive) / (truePositive + falseNegative))\n",
    "Recall *= 100\n",
    "FMeasure = float((2 * truePositive) / ((2 * truePositive) + falseNegative + falsePositive))\n",
    "\n",
    "print('Accuracy:', Accuracy)\n",
    "print('Precision:', Precision)\n",
    "print('Recall:', Recall)\n",
    "print('FMeasure:', FMeasure)"
   ]
  }
 ],
 "metadata": {
  "kernelspec": {
   "display_name": "Python 3",
   "language": "python",
   "name": "python3"
  },
  "language_info": {
   "codemirror_mode": {
    "name": "ipython",
    "version": 3
   },
   "file_extension": ".py",
   "mimetype": "text/x-python",
   "name": "python",
   "nbconvert_exporter": "python",
   "pygments_lexer": "ipython3",
   "version": "3.7.0"
  }
 },
 "nbformat": 4,
 "nbformat_minor": 2
}
