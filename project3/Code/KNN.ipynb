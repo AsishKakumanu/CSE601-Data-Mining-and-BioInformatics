{
 "cells": [
  {
   "cell_type": "code",
   "execution_count": 4,
   "metadata": {},
   "outputs": [],
   "source": [
    "from copy import deepcopy\n",
    "import numpy as np\n",
    "from sklearn.decomposition import PCA\n",
    "import random\n",
    "from matplotlib import pyplot as plt\n",
    "import tkinter.filedialog"
   ]
  },
  {
   "cell_type": "code",
   "execution_count": 5,
   "metadata": {},
   "outputs": [],
   "source": [
    "def dist(a, b):\n",
    "    return (np.dot(a - b, a - b)) ** .5"
   ]
  },
  {
   "cell_type": "code",
   "execution_count": 6,
   "metadata": {},
   "outputs": [],
   "source": [
    "### K nearest neighbour algorithm\n",
    "\n",
    "def knnAlgo(train_data, label, point, k):\n",
    "    list = []\n",
    "    for i in range(0, len(train_data)):\n",
    "        temp = dist(train_data[i], point)\n",
    "        list.append([temp, i])\n",
    "    list = sorted(list, key=lambda tup: tup[0])\n",
    "    ind_dict = dict()\n",
    "    for i in range(k):\n",
    "        ind_dict.setdefault(label[list[i][1]], 0)\n",
    "        ind_dict[label[list[i][1]]] += 1\n",
    "    # print('Index dic is', ind_dict)\n",
    "    max_label = max(ind_dict, key=ind_dict.get)\n",
    "    return max_label"
   ]
  },
  {
   "cell_type": "code",
   "execution_count": 7,
   "metadata": {},
   "outputs": [
    {
     "name": "stdout",
     "output_type": "stream",
     "text": [
      "Enter the K value = 9\n"
     ]
    }
   ],
   "source": [
    "# Open a file dialog\n",
    "kVal = int(input(\"Enter the K value = \"))\n",
    "# input_file = tkinter.filedialog.askopenfilename()\n",
    "input_file = \"project3_dataset1.txt\"\n",
    "data = np.loadtxt(input_file, dtype=str)\n",
    "data = np.array(data)\n",
    "\n",
    "label = data[:, data.shape[1] - 1]\n",
    "data = data[:, :data.shape[1] - 1]\n",
    "\n",
    "data_norm = []\n",
    "# dictlist = [dict() for x in range(len(data[0])-1)]\n",
    "for i in range(data.shape[1]):\n",
    "    col = data[0:data.shape[0], i]\n",
    "    if col[0].isalpha():\n",
    "        print('Alphabet')\n",
    "        # fcol = [[0] for i in range()]\n",
    "        fcol = np.zeros(shape=col.shape)\n",
    "        keys = set(col)\n",
    "        values = list(range(0, len(keys)))\n",
    "        # print(type(values[0]))\n",
    "        dictionary = dict(zip(keys, values))\n",
    "        # dictlist[i] = dictionary\n",
    "        # print('Dictlist:', dictlist)\n",
    "        for idx in range(len(col)):\n",
    "            fcol[idx] = (float(dictionary.get(col[idx])))\n",
    "        mean = np.mean(fcol)\n",
    "        sd = np.std(fcol)\n",
    "        ncol = (fcol - mean) / sd\n",
    "        data_norm.append(ncol)\n",
    "    else:\n",
    "        fcol = col.astype(np.float)\n",
    "        mean = np.mean(fcol)\n",
    "        sd = np.std(fcol)\n",
    "        ncol = (fcol - mean) / sd\n",
    "        # data_norm.append (fcol / fcol.max())\n",
    "        data_norm.append(ncol)\n",
    "data_norm = np.transpose(data_norm)"
   ]
  },
  {
   "cell_type": "code",
   "execution_count": 8,
   "metadata": {},
   "outputs": [],
   "source": [
    "def split_data(data, iteration, no_of_folds):\n",
    "    batch = len(data) / no_of_folds\n",
    "    training_first = data[:int((iteration - 1) * batch)]\n",
    "    testing_data = data[int((iteration - 1) * batch):int(iteration * batch)]\n",
    "    training_last = data[int(iteration * batch):]\n",
    "    # print(type(training_first))\n",
    "    training_data = np.concatenate((training_first, training_last), axis=0)\n",
    "    return training_data, testing_data"
   ]
  },
  {
   "cell_type": "code",
   "execution_count": 9,
   "metadata": {},
   "outputs": [
    {
     "name": "stdout",
     "output_type": "stream",
     "text": [
      "Accuracy: 96.64207726914418\n",
      "Precision: 97.43360658305774\n",
      "Recall: 92.96974044841474\n",
      "FMeasure: 0.9512753797905837\n"
     ]
    }
   ],
   "source": [
    "truePositive = 0\n",
    "trueNegative = 0\n",
    "falsePositive = 0\n",
    "falseNegative = 0\n",
    "avgAccuracy = 0\n",
    "avgPrecision = 0\n",
    "avgRecall = 0\n",
    "avgFMeasure = 0\n",
    "\n",
    "for i in range(0, 10):\n",
    "    train_data, test_data = split_data(data_norm, i + 1, 10)\n",
    "    train_label, test_label = split_data(label, i + 1, 10)\n",
    "    # Call for the Knn calculation for each point to identify the class\n",
    "    predicted_class = []\n",
    "    for tVal in test_data:\n",
    "        d = knnAlgo(train_data, train_label, tVal, kVal)\n",
    "        predicted_class.append(d)\n",
    "\n",
    "    posCount = 0\n",
    "    # print(predicted_class)\n",
    "    for j in range(len(test_label)):\n",
    "        if predicted_class[j] == test_label[j]:\n",
    "            if predicted_class[j] == '0':\n",
    "                trueNegative += 1\n",
    "            else:\n",
    "                truePositive += 1\n",
    "        else:\n",
    "            if predicted_class[j] == '0':\n",
    "                falseNegative += 1\n",
    "            else:\n",
    "                falsePositive += 1\n",
    "    Accuracy = float(truePositive + trueNegative) / (truePositive + trueNegative + falseNegative + falsePositive)\n",
    "    Accuracy *= 100\n",
    "    avgAccuracy += Accuracy\n",
    "    Precision = float(truePositive / (truePositive + falsePositive))\n",
    "    Precision *= 100\n",
    "    avgPrecision += Precision\n",
    "    Recall = float(truePositive / (truePositive + falseNegative))\n",
    "    Recall *= 100\n",
    "    avgRecall += Recall\n",
    "    FMeasure = float((2 * truePositive) / ((2 * truePositive) + falseNegative + falsePositive))\n",
    "    avgFMeasure += FMeasure\n",
    "\n",
    "print('Accuracy:', avgAccuracy / 10)\n",
    "print('Precision:', avgPrecision / 10)\n",
    "print('Recall:', avgRecall / 10)\n",
    "print('FMeasure:', avgFMeasure / 10)"
   ]
  }
 ],
 "metadata": {
  "kernelspec": {
   "display_name": "Python 3",
   "language": "python",
   "name": "python3"
  },
  "language_info": {
   "codemirror_mode": {
    "name": "ipython",
    "version": 3
   },
   "file_extension": ".py",
   "mimetype": "text/x-python",
   "name": "python",
   "nbconvert_exporter": "python",
   "pygments_lexer": "ipython3",
   "version": "3.7.0"
  }
 },
 "nbformat": 4,
 "nbformat_minor": 2
}
